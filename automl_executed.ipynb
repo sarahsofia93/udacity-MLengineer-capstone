{
 "cells": [
  {
   "cell_type": "markdown",
   "metadata": {},
   "source": [
    "# Automated ML\n",
    "\n",
    "Done: Import Dependencies. In the cell below, import all the dependencies that you will need to complete the project."
   ]
  },
  {
   "cell_type": "code",
   "execution_count": 1,
   "metadata": {
    "gather": {
     "logged": 1598423888013
    },
    "jupyter": {
     "outputs_hidden": false,
     "source_hidden": false
    },
    "nteract": {
     "transient": {
      "deleting": false
     }
    }
   },
   "outputs": [],
   "source": [
    "import logging\n",
    "import os\n",
    "import csv\n",
    "\n",
    "from matplotlib import pyplot as plt\n",
    "import numpy as np\n",
    "import pandas as pd\n",
    "from sklearn import datasets\n",
    "import pkg_resources\n",
    "\n",
    "import azureml.core\n",
    "from azureml.core.experiment import Experiment\n",
    "from azureml.core.workspace import Workspace\n",
    "from azureml.train.automl import AutoMLConfig\n",
    "from azureml.core.dataset import Dataset\n",
    "\n",
    "from azureml.pipeline.steps import AutoMLStep\n",
    "\n",
    "from azureml.core.compute import AmlCompute\n",
    "from azureml.core.compute import ComputeTarget\n",
    "from azureml.core.compute_target import ComputeTargetException\n",
    "\n",
    "from azureml.widgets import RunDetails"
   ]
  },
  {
   "cell_type": "markdown",
   "metadata": {},
   "source": [
    "## Dataset\n",
    "\n",
    "### Overview\n",
    "I am using the \"Jobs and Salaries in Data Science\" dataset from kaggle (https://www.kaggle.com/datasets/hummaamqaasim/jobs-in-data?resource=download). It contains job descriptions (e.g., Data Engineer, Data Scientist) and salaries (both in original currency and USD), experience level, type of employment (full time vs part-time), and work setting (in-person/hybrid). For the capstone project I want to predict the salary in USD using a regression model. It's important to delete the \"salary\" column (in original currency) beforehand, as it is almost the same as the target column and should not be an input of the model.\n",
    "\n",
    "TODO: Get data. In the cell below, write code to access the data you will be using in this project. Remember that the dataset needs to be external."
   ]
  },
  {
   "cell_type": "code",
   "execution_count": 2,
   "metadata": {
    "gather": {
     "logged": 1598423890461
    },
    "jupyter": {
     "outputs_hidden": false,
     "source_hidden": false
    },
    "nteract": {
     "transient": {
      "deleting": false
     }
    }
   },
   "outputs": [],
   "source": [
    "ws = Workspace.from_config()\n",
    "\n",
    "# choose a name for experiment\n",
    "experiment_name = 'my-automl-experiment'\n",
    "\n",
    "experiment=Experiment(ws, experiment_name)\n",
    "\n"
   ]
  },
  {
   "cell_type": "code",
   "execution_count": 3,
   "metadata": {},
   "outputs": [
    {
     "data": {
      "text/html": [
       "<div>\n",
       "<style scoped>\n",
       "    .dataframe tbody tr th:only-of-type {\n",
       "        vertical-align: middle;\n",
       "    }\n",
       "\n",
       "    .dataframe tbody tr th {\n",
       "        vertical-align: top;\n",
       "    }\n",
       "\n",
       "    .dataframe thead th {\n",
       "        text-align: right;\n",
       "    }\n",
       "</style>\n",
       "<table border=\"1\" class=\"dataframe\">\n",
       "  <thead>\n",
       "    <tr style=\"text-align: right;\">\n",
       "      <th></th>\n",
       "      <th>work_year</th>\n",
       "      <th>salary_in_usd</th>\n",
       "    </tr>\n",
       "  </thead>\n",
       "  <tbody>\n",
       "    <tr>\n",
       "      <th>count</th>\n",
       "      <td>9355.000000</td>\n",
       "      <td>9355.000000</td>\n",
       "    </tr>\n",
       "    <tr>\n",
       "      <th>mean</th>\n",
       "      <td>2022.760449</td>\n",
       "      <td>150299.495564</td>\n",
       "    </tr>\n",
       "    <tr>\n",
       "      <th>std</th>\n",
       "      <td>0.519470</td>\n",
       "      <td>63177.372024</td>\n",
       "    </tr>\n",
       "    <tr>\n",
       "      <th>min</th>\n",
       "      <td>2020.000000</td>\n",
       "      <td>15000.000000</td>\n",
       "    </tr>\n",
       "    <tr>\n",
       "      <th>25%</th>\n",
       "      <td>2023.000000</td>\n",
       "      <td>105700.000000</td>\n",
       "    </tr>\n",
       "    <tr>\n",
       "      <th>50%</th>\n",
       "      <td>2023.000000</td>\n",
       "      <td>143000.000000</td>\n",
       "    </tr>\n",
       "    <tr>\n",
       "      <th>75%</th>\n",
       "      <td>2023.000000</td>\n",
       "      <td>186723.000000</td>\n",
       "    </tr>\n",
       "    <tr>\n",
       "      <th>max</th>\n",
       "      <td>2023.000000</td>\n",
       "      <td>450000.000000</td>\n",
       "    </tr>\n",
       "  </tbody>\n",
       "</table>\n",
       "</div>"
      ],
      "text/plain": [
       "         work_year  salary_in_usd\n",
       "count  9355.000000    9355.000000\n",
       "mean   2022.760449  150299.495564\n",
       "std       0.519470   63177.372024\n",
       "min    2020.000000   15000.000000\n",
       "25%    2023.000000  105700.000000\n",
       "50%    2023.000000  143000.000000\n",
       "75%    2023.000000  186723.000000\n",
       "max    2023.000000  450000.000000"
      ]
     },
     "execution_count": 3,
     "metadata": {},
     "output_type": "execute_result"
    }
   ],
   "source": [
    "found = False\n",
    "key = \"DataScientistSalaries\"\n",
    "\n",
    "if key in ws.datasets.keys(): \n",
    "        found = True\n",
    "        dataset = ws.datasets[key] \n",
    "\n",
    "if not found:\n",
    "        # Create AML Dataset and register it into Workspace\n",
    "        example_data = 'https://github.com/sarahsofia93/udacity-MLengineer-capstone/blob/master/jobs_in_data.csv'\n",
    "        dataset = Dataset.Tabular.from_delimited_files(example_data)        \n",
    "        #Register Dataset in Workspace\n",
    "        dataset = dataset.register(workspace=ws,\n",
    "                                   name=key,\n",
    "                                   description=description_text)\n",
    "\n",
    "\n",
    "df = dataset.to_pandas_dataframe()\n",
    "df.describe()\n",
    "\n"
   ]
  },
  {
   "cell_type": "code",
   "execution_count": 4,
   "metadata": {},
   "outputs": [
    {
     "name": "stdout",
     "output_type": "stream",
     "text": [
      "Found existing cluster, use it.\n",
      "Succeeded.....................................................................................................................\n",
      "AmlCompute wait for completion finished\n",
      "\n",
      "Wait timeout has been reached\n",
      "Current provisioning state of AmlCompute is \"Succeeded\" and current node count is \"0\"\n"
     ]
    }
   ],
   "source": [
    "amlcompute_cluster_name = \"my-fancy-cluster\"\n",
    "\n",
    "# Verify that cluster does not exist already\n",
    "try:\n",
    "    compute_target = ComputeTarget(workspace=ws, name=amlcompute_cluster_name)\n",
    "    print('Found existing cluster, use it.')\n",
    "except ComputeTargetException:\n",
    "    compute_config = AmlCompute.provisioning_configuration(vm_size='STANDARD_D2_V2',# for GPU, use \"STANDARD_NC6\"\n",
    "                                                           #vm_priority = 'lowpriority', # optional\n",
    "                                                           max_nodes=4)\n",
    "    compute_target = ComputeTarget.create(ws, amlcompute_cluster_name, compute_config)\n",
    "\n",
    "compute_target.wait_for_completion(show_output=True, min_node_count = 1, timeout_in_minutes = 10)\n",
    "# For a more detailed view of current AmlCompute status, use get_status()."
   ]
  },
  {
   "cell_type": "markdown",
   "metadata": {},
   "source": [
    "## AutoML Configuration\n",
    "\n",
    "(Done): Explain why you chose the automl settings and cofiguration you used below.\n",
    "\n",
    "I am choosing a regression model since my target variable (salary) is a continuous rather than a categorial variable. I am using the primary metric R2 score which is a common metric for regresisons in AutoML. It also helps me to establish comparability with the hyperdrive model, where I also use the r aquared as metric."
   ]
  },
  {
   "cell_type": "code",
   "execution_count": 5,
   "metadata": {
    "gather": {
     "logged": 1598429217746
    },
    "jupyter": {
     "outputs_hidden": false,
     "source_hidden": false
    },
    "nteract": {
     "transient": {
      "deleting": false
     }
    }
   },
   "outputs": [],
   "source": [
    "# TODO: Put your automl settings here\n",
    "automl_settings = {\n",
    "    \"experiment_timeout_minutes\": 30,\n",
    "    \"max_concurrent_iterations\": 4,\n",
    "    \"primary_metric\" : 'r2_score',\n",
    "    \"n_cross_validations\": 5\n",
    "}\n",
    "\n",
    "# TODO: Put your automl config here\n",
    "automl_config = AutoMLConfig(compute_target = compute_target,\n",
    "                             task = \"regression\",\n",
    "                                training_data = dataset,\n",
    "                                label_column_name = \"salary_in_usd\",\n",
    "                                path = \"./automl-run\",\n",
    "                                enable_early_stopping= True,\n",
    "                                featurization = \"auto\",\n",
    "                                debug_log = \"automl_errors.log\",\n",
    "                                **automl_settings\n",
    ")\n"
   ]
  },
  {
   "cell_type": "code",
   "execution_count": 6,
   "metadata": {
    "gather": {
     "logged": 1598431107951
    },
    "jupyter": {
     "outputs_hidden": false,
     "source_hidden": false
    },
    "nteract": {
     "transient": {
      "deleting": false
     }
    }
   },
   "outputs": [
    {
     "name": "stdout",
     "output_type": "stream",
     "text": [
      "Submitting remote run.\n",
      "No run_configuration provided, running on my-fancy-cluster with default configuration\n",
      "Running on remote compute: my-fancy-cluster\n"
     ]
    },
    {
     "data": {
      "text/html": [
       "<table style=\"width:100%\"><tr><th>Experiment</th><th>Id</th><th>Type</th><th>Status</th><th>Details Page</th><th>Docs Page</th></tr><tr><td>my-automl-experiment</td><td>AutoML_dbdd65df-e1ce-4515-a57c-23b8e29675df</td><td>automl</td><td>NotStarted</td><td><a href=\"https://ml.azure.com/runs/AutoML_dbdd65df-e1ce-4515-a57c-23b8e29675df?wsid=/subscriptions/2c48c51c-bd47-40d4-abbe-fb8eabd19c8c/resourcegroups/aml-quickstarts-251354/workspaces/quick-starts-ws-251354&amp;tid=660b3398-b80e-49d2-bc5b-ac1dc93b5254\" target=\"_blank\" rel=\"noopener\">Link to Azure Machine Learning studio</a></td><td><a href=\"https://docs.microsoft.com/en-us/python/api/overview/azure/ml/intro?view=azure-ml-py\" target=\"_blank\" rel=\"noopener\">Link to Documentation</a></td></tr></table>"
      ]
     },
     "metadata": {},
     "output_type": "display_data"
    },
    {
     "name": "stdout",
     "output_type": "stream",
     "text": [
      "\n",
      "Current status: FeaturesGeneration. Generating features for the dataset.\n",
      "Current status: DatasetFeaturization. Beginning to fit featurizers and featurize the dataset.\n",
      "Current status: DatasetCrossValidationSplit. Generating individually featurized CV splits.\n",
      "Current status: ModelSelection. Beginning model selection.\n",
      "\n",
      "********************************************************************************************\n",
      "DATA GUARDRAILS: \n",
      "\n",
      "TYPE:         Missing feature values imputation\n",
      "STATUS:       PASSED\n",
      "DESCRIPTION:  No feature missing values were detected in the training data.\n",
      "              Learn more about missing value imputation: https://aka.ms/AutomatedMLFeaturization\n",
      "\n",
      "********************************************************************************************\n",
      "\n",
      "TYPE:         High cardinality feature detection\n",
      "STATUS:       PASSED\n",
      "DESCRIPTION:  Your inputs were analyzed, and no high cardinality features were detected.\n",
      "              Learn more about high cardinality feature handling: https://aka.ms/AutomatedMLFeaturization\n",
      "\n",
      "********************************************************************************************\n",
      "\n",
      "********************************************************************************************\n",
      "ITER: The iteration being evaluated.\n",
      "PIPELINE: A summary description of the pipeline being evaluated.\n",
      "DURATION: Time taken for the current iteration.\n",
      "METRIC: The result of computing score on the fitted pipeline.\n",
      "BEST: The best observed score thus far.\n",
      "********************************************************************************************\n",
      "\n",
      " ITER   PIPELINE                                       DURATION            METRIC      BEST\n",
      "    0   MaxAbsScaler LightGBM                          0:00:13             0.3752    0.3752\n",
      "    1   MaxAbsScaler XGBoostRegressor                  0:00:12             0.3764    0.3764\n",
      "    2   StandardScalerWrapper XGBoostRegressor         0:00:13            -1.0000    0.3764\n",
      "    3   MaxAbsScaler ElasticNet                        0:00:47             0.3533    0.3764\n",
      "    4   MaxAbsScaler LightGBM                          0:00:10             0.3476    0.3764\n",
      "    5   SparseNormalizer XGBoostRegressor              0:00:13             0.3703    0.3764\n",
      "    6   MaxAbsScaler RandomForest                      0:00:12             0.2497    0.3764\n",
      "    7   MaxAbsScaler RandomForest                      0:00:11             0.2627    0.3764\n",
      "    8   StandardScalerWrapper ExtremeRandomTrees       0:00:22             0.2836    0.3764\n",
      "    9   SparseNormalizer XGBoostRegressor              0:00:12             0.3683    0.3764\n",
      "   10   MaxAbsScaler ExtremeRandomTrees                0:00:14             0.3359    0.3764\n",
      "   11   MaxAbsScaler ElasticNet                        0:00:45             0.3607    0.3764\n",
      "   15   StandardScalerWrapper ElasticNet               0:00:13             0.2118    0.3764\n",
      "   16   MaxAbsScaler RandomForest                      0:00:14             0.2401    0.3764\n",
      "   12   SparseNormalizer XGBoostRegressor              0:00:40             0.3059    0.3764\n",
      "   17   StandardScalerWrapper ElasticNet               0:00:34             0.3562    0.3764\n",
      "   18   StandardScalerWrapper XGBoostRegressor         0:00:14             0.3704    0.3764\n",
      "   19   StandardScalerWrapper ExtremeRandomTrees       0:00:11             0.2786    0.3764\n",
      "   13   MaxAbsScaler RandomForest                      0:00:23             0.2605    0.3764\n",
      "   14   StandardScalerWrapper XGBoostRegressor         0:00:14             0.3511    0.3764\n",
      "   21   MaxAbsScaler DecisionTree                      0:00:29             0.2716    0.3764\n",
      "   22   SparseNormalizer ExtremeRandomTrees            0:00:31             0.3373    0.3764\n",
      "   20   StandardScalerWrapper ElasticNet               0:02:49             0.2871    0.3764\n",
      "   23   StandardScalerWrapper LightGBM                 0:02:47             0.3177    0.3764\n",
      "   24   StandardScalerWrapper ExtremeRandomTrees       0:02:48             0.3492    0.3764\n",
      "   25   StandardScalerWrapper XGBoostRegressor         0:02:33            -0.0059    0.3764\n",
      "   26   SparseNormalizer XGBoostRegressor              0:02:58            -1.0000    0.3764\n",
      "   27   SparseNormalizer XGBoostRegressor              0:02:39            -1.0000    0.3764\n",
      "   28   SparseNormalizer XGBoostRegressor              0:02:36            -0.1286    0.3764\n",
      "   29   StandardScalerWrapper DecisionTree             0:02:35             0.3534    0.3764\n",
      "   30   StandardScalerWrapper XGBoostRegressor         0:02:57            -1.0000    0.3764\n",
      "   31   MaxAbsScaler GradientBoosting                  0:02:43             0.2316    0.3764\n",
      "   32   MaxAbsScaler GradientBoosting                  0:02:36             0.2492    0.3764\n",
      "   33                                                  0:01:14                nan    0.3764\n",
      "   34                                                  0:00:03                nan    0.3764\n",
      "   35                                                  0:00:03                nan    0.3764\n",
      "   36    VotingEnsemble                                0:02:58             0.3851    0.3851\n",
      "   37    StackEnsemble                                 0:03:25             0.3831    0.3851\n"
     ]
    }
   ],
   "source": [
    "# TODO: Submit your experiment\n",
    "remote_run = experiment.submit(automl_config, show_output = True)\n"
   ]
  },
  {
   "cell_type": "markdown",
   "metadata": {},
   "source": [
    "## Run Details\n",
    "\n",
    "OPTIONAL: Write about the different models trained and their performance. Why do you think some models did better than others?\n",
    "\n",
    "TODO: In the cell below, use the `RunDetails` widget to show the different experiments."
   ]
  },
  {
   "cell_type": "code",
   "execution_count": 7,
   "metadata": {
    "gather": {
     "logged": 1598431121770
    },
    "jupyter": {
     "outputs_hidden": false,
     "source_hidden": false
    },
    "nteract": {
     "transient": {
      "deleting": false
     }
    }
   },
   "outputs": [
    {
     "data": {
      "application/vnd.jupyter.widget-view+json": {
       "model_id": "347887d0f9664a07a666aca5521ae267",
       "version_major": 2,
       "version_minor": 0
      },
      "text/plain": [
       "_AutoMLWidget(widget_settings={'childWidgetDisplay': 'popup', 'send_telemetry': False, 'log_level': 'INFO', 's…"
      ]
     },
     "metadata": {},
     "output_type": "display_data"
    },
    {
     "data": {
      "application/aml.mini.widget.v1": "{\"status\": \"Completed\", \"workbench_run_details_uri\": \"https://ml.azure.com/runs/AutoML_dbdd65df-e1ce-4515-a57c-23b8e29675df?wsid=/subscriptions/2c48c51c-bd47-40d4-abbe-fb8eabd19c8c/resourcegroups/aml-quickstarts-251354/workspaces/quick-starts-ws-251354&tid=660b3398-b80e-49d2-bc5b-ac1dc93b5254\", \"run_id\": \"AutoML_dbdd65df-e1ce-4515-a57c-23b8e29675df\", \"run_properties\": {\"run_id\": \"AutoML_dbdd65df-e1ce-4515-a57c-23b8e29675df\", \"created_utc\": \"2024-02-02T08:07:53.559198Z\", \"properties\": {\"num_iterations\": \"1000\", \"training_type\": \"TrainFull\", \"acquisition_function\": \"EI\", \"primary_metric\": \"r2_score\", \"train_split\": \"0\", \"acquisition_parameter\": \"0\", \"num_cross_validation\": \"5\", \"target\": \"my-fancy-cluster\", \"AMLSettingsJsonString\": \"{\\\"path\\\":null,\\\"name\\\":\\\"my-automl-experiment\\\",\\\"subscription_id\\\":\\\"2c48c51c-bd47-40d4-abbe-fb8eabd19c8c\\\",\\\"resource_group\\\":\\\"aml-quickstarts-251354\\\",\\\"workspace_name\\\":\\\"quick-starts-ws-251354\\\",\\\"region\\\":\\\"westus2\\\",\\\"compute_target\\\":\\\"my-fancy-cluster\\\",\\\"spark_service\\\":null,\\\"azure_service\\\":\\\"remote\\\",\\\"many_models\\\":false,\\\"pipeline_fetch_max_batch_size\\\":1,\\\"enable_batch_run\\\":true,\\\"enable_parallel_run\\\":false,\\\"num_procs\\\":null,\\\"enable_run_restructure\\\":false,\\\"start_auxiliary_runs_before_parent_complete\\\":false,\\\"enable_code_generation\\\":true,\\\"iterations\\\":1000,\\\"primary_metric\\\":\\\"r2_score\\\",\\\"task_type\\\":\\\"regression\\\",\\\"positive_label\\\":null,\\\"data_script\\\":null,\\\"test_size\\\":0.0,\\\"test_include_predictions_only\\\":false,\\\"validation_size\\\":0.0,\\\"n_cross_validations\\\":5,\\\"y_min\\\":null,\\\"y_max\\\":null,\\\"num_classes\\\":null,\\\"featurization\\\":\\\"auto\\\",\\\"_ignore_package_version_incompatibilities\\\":false,\\\"is_timeseries\\\":false,\\\"max_cores_per_iteration\\\":1,\\\"max_concurrent_iterations\\\":4,\\\"iteration_timeout_minutes\\\":null,\\\"mem_in_mb\\\":null,\\\"enforce_time_on_windows\\\":false,\\\"experiment_timeout_minutes\\\":30,\\\"experiment_exit_score\\\":null,\\\"partition_column_names\\\":null,\\\"whitelist_models\\\":null,\\\"blacklist_algos\\\":[\\\"TensorFlowDNN\\\",\\\"TensorFlowLinearRegressor\\\"],\\\"supported_models\\\":[\\\"TensorFlowLinearRegressor\\\",\\\"TensorFlowDNN\\\",\\\"TabnetRegressor\\\",\\\"FastLinearRegressor\\\",\\\"XGBoostRegressor\\\",\\\"OnlineGradientDescentRegressor\\\",\\\"KNN\\\",\\\"DecisionTree\\\",\\\"GradientBoosting\\\",\\\"RandomForest\\\",\\\"LassoLars\\\",\\\"ExtremeRandomTrees\\\",\\\"ElasticNet\\\",\\\"SGD\\\",\\\"LightGBM\\\"],\\\"private_models\\\":[],\\\"auto_blacklist\\\":true,\\\"blacklist_samples_reached\\\":false,\\\"exclude_nan_labels\\\":true,\\\"verbosity\\\":20,\\\"_debug_log\\\":\\\"azureml_automl.log\\\",\\\"show_warnings\\\":false,\\\"model_explainability\\\":true,\\\"service_url\\\":null,\\\"sdk_url\\\":null,\\\"sdk_packages\\\":null,\\\"enable_onnx_compatible_models\\\":false,\\\"enable_split_onnx_featurizer_estimator_models\\\":false,\\\"vm_type\\\":\\\"STANDARD_D3_V2\\\",\\\"telemetry_verbosity\\\":20,\\\"send_telemetry\\\":true,\\\"enable_dnn\\\":false,\\\"scenario\\\":\\\"AutoML\\\",\\\"environment_label\\\":null,\\\"save_mlflow\\\":false,\\\"enable_categorical_indicators\\\":false,\\\"force_text_dnn\\\":false,\\\"enable_feature_sweeping\\\":true,\\\"enable_early_stopping\\\":true,\\\"early_stopping_n_iters\\\":10,\\\"arguments\\\":null,\\\"dataset_id\\\":\\\"bde74d16-56f3-4a7d-9cac-3c9949ec8e23\\\",\\\"hyperdrive_config\\\":null,\\\"validation_dataset_id\\\":null,\\\"run_source\\\":null,\\\"metrics\\\":null,\\\"enable_metric_confidence\\\":false,\\\"enable_ensembling\\\":true,\\\"enable_stack_ensembling\\\":true,\\\"ensemble_iterations\\\":15,\\\"enable_tf\\\":false,\\\"enable_subsampling\\\":null,\\\"subsample_seed\\\":null,\\\"enable_nimbusml\\\":false,\\\"enable_streaming\\\":false,\\\"force_streaming\\\":false,\\\"track_child_runs\\\":true,\\\"n_best_runs\\\":1,\\\"allowed_private_models\\\":[],\\\"label_column_name\\\":\\\"salary_in_usd\\\",\\\"weight_column_name\\\":null,\\\"cv_split_column_names\\\":null,\\\"enable_local_managed\\\":false,\\\"_local_managed_run_id\\\":null,\\\"cost_mode\\\":1,\\\"lag_length\\\":0,\\\"metric_operation\\\":\\\"maximize\\\",\\\"preprocess\\\":true}\", \"DataPrepJsonString\": \"{\\\\\\\"training_data\\\\\\\": {\\\\\\\"datasetId\\\\\\\": \\\\\\\"bde74d16-56f3-4a7d-9cac-3c9949ec8e23\\\\\\\"}, \\\\\\\"datasets\\\\\\\": 0}\", \"EnableSubsampling\": null, \"runTemplate\": \"AutoML\", \"azureml.runsource\": \"automl\", \"display_task_type\": \"regression\", \"dependencies_versions\": \"{\\\"azureml-dataprep-native\\\": \\\"38.0.0\\\", \\\"azureml-dataprep\\\": \\\"4.10.8\\\", \\\"azureml-dataprep-rslex\\\": \\\"2.17.12\\\", \\\"azureml-train-automl-runtime\\\": \\\"1.51.0.post2\\\", \\\"azureml-train-automl-client\\\": \\\"1.51.0.post1\\\", \\\"azureml-training-tabular\\\": \\\"1.51.0.post1\\\", \\\"azureml-automl-runtime\\\": \\\"1.51.0.post1\\\", \\\"azureml-automl-core\\\": \\\"1.51.0.post1\\\", \\\"azureml-mlflow\\\": \\\"1.51.0\\\", \\\"azureml-datadrift\\\": \\\"1.51.0\\\", \\\"azureml-pipeline\\\": \\\"1.51.0\\\", \\\"azureml-contrib-dataset\\\": \\\"1.51.0\\\", \\\"azureml-contrib-notebook\\\": \\\"1.51.0\\\", \\\"azureml-accel-models\\\": \\\"1.51.0\\\", \\\"azureml-automl-dnn-nlp\\\": \\\"1.51.0\\\", \\\"azureml-pipeline-core\\\": \\\"1.51.0\\\", \\\"azureml-responsibleai\\\": \\\"1.51.0\\\", \\\"azureml-contrib-automl-pipeline-steps\\\": \\\"1.51.0\\\", \\\"azureml-pipeline-steps\\\": \\\"1.51.0\\\", \\\"azureml-core\\\": \\\"1.51.0\\\", \\\"azureml-contrib-reinforcementlearning\\\": \\\"1.51.0\\\", \\\"azureml-contrib-server\\\": \\\"1.51.0\\\", \\\"azureml-opendatasets\\\": \\\"1.51.0\\\", \\\"azureml-contrib-services\\\": \\\"1.51.0\\\", \\\"azureml-telemetry\\\": \\\"1.51.0\\\", \\\"azureml-train-restclients-hyperdrive\\\": \\\"1.51.0\\\", \\\"azureml-interpret\\\": \\\"1.51.0\\\", \\\"azureml-train-core\\\": \\\"1.51.0\\\", \\\"azureml-tensorboard\\\": \\\"1.51.0\\\", \\\"azureml-train\\\": \\\"1.51.0\\\", \\\"azureml-contrib-pipeline-steps\\\": \\\"1.51.0\\\", \\\"azureml-explain-model\\\": \\\"1.51.0\\\", \\\"azureml-cli-common\\\": \\\"1.51.0\\\", \\\"azureml-widgets\\\": \\\"1.51.0\\\", \\\"azureml-train-automl\\\": \\\"1.51.0\\\", \\\"azureml-defaults\\\": \\\"1.51.0\\\", \\\"azureml-contrib-fairness\\\": \\\"1.51.0\\\", \\\"azureml-sdk\\\": \\\"1.51.0\\\", \\\"azureml-dataset-runtime\\\": \\\"1.51.0\\\", \\\"azureml-inference-server-http\\\": \\\"0.8.4\\\"}\", \"_aml_system_scenario_identification\": \"Remote.Parent\", \"ClientType\": \"SDK\", \"PlatformVersion\": \"DPV1\", \"environment_cpu_name\": \"AzureML-AutoML\", \"environment_cpu_label\": \"scikit-upgrade2\", \"environment_gpu_name\": \"AzureML-AutoML-GPU\", \"environment_gpu_label\": \"scikit-upgrade2\", \"root_attribution\": \"automl\", \"attribution\": \"AutoML\", \"Orchestrator\": \"AutoML\", \"CancelUri\": \"https://westus2.api.azureml.ms/jasmine/v1.0/subscriptions/2c48c51c-bd47-40d4-abbe-fb8eabd19c8c/resourceGroups/aml-quickstarts-251354/providers/Microsoft.MachineLearningServices/workspaces/quick-starts-ws-251354/experimentids/a4431f2a-6b59-4ace-837d-3f5392e82cde/cancel/AutoML_dbdd65df-e1ce-4515-a57c-23b8e29675df\", \"ClientSdkVersion\": null, \"snapshotId\": \"00000000-0000-0000-0000-000000000000\", \"SetupRunId\": \"AutoML_dbdd65df-e1ce-4515-a57c-23b8e29675df_setup\", \"SetupRunContainerId\": \"dcid.AutoML_dbdd65df-e1ce-4515-a57c-23b8e29675df_setup\", \"FeaturizationRunJsonPath\": \"featurizer_container.json\", \"FeaturizationRunId\": \"AutoML_dbdd65df-e1ce-4515-a57c-23b8e29675df_featurize\", \"ProblemInfoJsonString\": \"{\\\"dataset_num_categorical\\\": 0, \\\"is_sparse\\\": true, \\\"subsampling\\\": false, \\\"has_extra_col\\\": true, \\\"dataset_classes\\\": 1786, \\\"dataset_features\\\": 306, \\\"dataset_samples\\\": 9355, \\\"single_frequency_class_detected\\\": false}\", \"ModelExplainRunId\": \"AutoML_dbdd65df-e1ce-4515-a57c-23b8e29675df_ModelExplain\"}, \"tags\": {\"model_explain_run\": \"best_run\", \"_aml_system_automl_run_workspace_id\": \"3f5232f7-f17d-4837-b255-a32a50698f61\", \"_aml_system_azureml.automlComponent\": \"AutoML\", \"pipeline_id_000\": \"faf12f74cf9bbd358ca5525682c5030d36f7be7c;4bc4ec47eb8df2d5d68b361cd60120e65196f757;5cc37daec73ea64276ef956449645cdb519fdfc6;ae729f09378486945c70eb2a2306f8aa8f4e30a7;6a894202d038ecb5c7c417bf556f9786ed0f13c6;81a8315d6cda43021ef8ee13d5b3fcd926dba303;be29dd8ef9fe83f67909ad067b2ee360837567fa;15e58541c67098b65d03a6b93fca780f681c9f5e;1a94a47ceeb6e3de4d1586870eb0b5b46f9d2ff9;4c058409e6cc4a503b1146122046abe088414f8f;fe3e28c574c755f8ec9262097b6f2abaa1264f15;abf1e76263c97dcb245e2e3c22af8672bca98a18;3000cb830d1cd19900206d2bef770e4da509572b;b5402e5e23e95d034621783c5097813f7fc3f147;786564a58f2bed5c06fb589cbded991e6c6aded9;1183faa528839e9068f57c94d547d1b73e786709;a4bd1e74e73eeac38f9bc82356003852c9ed36f7;eb4d67c62276b68592794641b4cbbee89720c733;6d09a0ee795a43e895132ff95166dba8e141aaea;e855d207cec0cd6487cd2dcd249b6cc655413e4d;9ef9cf7d41ac49d6df84fc323024df5303803877;2aca8b4b45fc09a61ced83f2066b98f8aebf676c;918157fc95daf9e05037762cef0897b7a17c8891;7d7fdfe415b40c2f22681f44bb394f0c21fcbff4;b91fd684cb45a535d66b96c384c1995e6fdd4d79;53ef083cb6cea6ffd4d4891127a7655ccb4dedf8;9a8aca21bbf9a431845c91d840add56c1cee47cc;35e5c774e8e870a2b17f500ca253fc5f3606704a;d52a0df59011cab5bb7b7622c32d3a6fd352eb64;481fb24ec6dd42126b5c8e7effde8f3c0a6326fb;6e783aea81f1d5af5ba3fc349ac792f28684de69;98ea6b0ca74589831a6c84e8ba7a78384a5425a1;ff6eb7b991cf6c3c4e067233d8a4135ea51e5973;4d0e8b3c07ec4d46ad4bbf5d55b7be0f5fb9e760;c5cc58de975cc7c68434e7c5d8e77024d85c51c8;3de820aa04fdd7fdf787035ee884f5c90565cf82;__AutoML_Ensemble__;__AutoML_Stack_Ensemble__\", \"score_000\": \"0.3751767882626861;0.3763725472010767;-1;0.35328662884708856;0.3475595647942852;0.37026877727421204;0.2497342289293149;0.2626567068589454;0.28360414516066196;0.36830387483475097;0.3358930368874563;0.21184635157803394;0.24005082467562416;0.36071489035561566;0.35622433685892363;0.37042341219619734;0.27862465975034506;0.3059450284162698;0.26054253966785523;0.3510929500479028;0.2715769763893496;0.3373289769831035;0.2871040724005184;0.31773052635116283;0.3492215667803965;-0.005866007901808912;-1;-1;-0.12858794434899798;0.3534291706180393;-1;0.23157762005228225;0.24919293029864953;NaN;NaN;NaN;0.38514080554422836;0.38305427710877493\", \"predicted_cost_000\": \"0;0;0.5;0.5;0.5;0.5;0.5;0.5;0.5;0.5;0.5;0.5;0.5;0.5;0.5;0.5;0.5;0.5;0.5;0.5;0.007352681808032062;0.1715348463470124;16.538485547480064;0.02235379090300307;0.09062481128753624;0.047506957121128825;0.04663380160114456;126.33344023698055;0.006432723018480984;0.007823003352330478;0.08133404107754955;9.404106540335137;0.2230006228623519;0.33734005885661467;1.2379916664732233;6.420863603283551;0;0\", \"fit_time_000\": \"0.14488879999999998;0.3905404;0.5830772;6.0236868;0.0762822;0.1848308;0.1274782;0.14746399999999998;1.9624023999999998;0.3770792;0.324387;0.0978194;0.6292612;5.731351999999999;3.729077599999999;0.3328924;0.0981658;4.711344800000001;2.1458984;0.6281947999999999;0.023725200000000002;0.35675500000000004;0.17184200000000002;0.0758352;2.3311884;0.05543119999999999;0.22474600000000003;0.1432262;0.1917232;0.048814199999999995;0.14850660000000002;0.5204286;0.1443552;NaN;NaN;NaN;19;27\", \"training_percent_000\": \"100;100;100;100;100;100;100;100;100;100;100;100;100;100;100;100;100;100;100;100;100;100;100;100;100;100;100;100;100;100;100;100;100;100;100;100;100;100\", \"iteration_000\": \"0;1;2;3;4;5;6;7;8;9;10;15;16;11;17;18;19;12;13;14;21;22;20;23;24;25;26;27;28;29;30;31;32;35;34;33;36;37\", \"run_preprocessor_000\": \"MaxAbsScaler;MaxAbsScaler;StandardScalerWrapper;MaxAbsScaler;MaxAbsScaler;SparseNormalizer;MaxAbsScaler;MaxAbsScaler;StandardScalerWrapper;SparseNormalizer;MaxAbsScaler;StandardScalerWrapper;MaxAbsScaler;MaxAbsScaler;StandardScalerWrapper;StandardScalerWrapper;StandardScalerWrapper;SparseNormalizer;MaxAbsScaler;StandardScalerWrapper;MaxAbsScaler;SparseNormalizer;StandardScalerWrapper;StandardScalerWrapper;StandardScalerWrapper;StandardScalerWrapper;SparseNormalizer;SparseNormalizer;SparseNormalizer;StandardScalerWrapper;StandardScalerWrapper;MaxAbsScaler;MaxAbsScaler;;;;;\", \"run_algorithm_000\": \"LightGBM;XGBoostRegressor;XGBoostRegressor;ElasticNet;LightGBM;XGBoostRegressor;RandomForest;RandomForest;ExtremeRandomTrees;XGBoostRegressor;ExtremeRandomTrees;ElasticNet;RandomForest;ElasticNet;ElasticNet;XGBoostRegressor;ExtremeRandomTrees;XGBoostRegressor;RandomForest;XGBoostRegressor;DecisionTree;ExtremeRandomTrees;ElasticNet;LightGBM;ExtremeRandomTrees;XGBoostRegressor;XGBoostRegressor;XGBoostRegressor;XGBoostRegressor;DecisionTree;XGBoostRegressor;GradientBoosting;GradientBoosting;;;;VotingEnsemble;StackEnsemble\", \"dynamic_allowlisting_iterations\": \"<25>;<30>;<35>;\", \"_aml_system_azureml.automl_early_exit_message\": \"No scores improved over last 10 iterations, so experiment stopped early. This early stopping behavior can be disabled by setting enable_early_stopping = False in AutoMLConfig for notebook/python SDK runs.\", \"automl_best_child_run_id\": \"AutoML_dbdd65df-e1ce-4515-a57c-23b8e29675df_36\", \"model_explain_best_run_child_id\": \"AutoML_dbdd65df-e1ce-4515-a57c-23b8e29675df_36\"}, \"end_time_utc\": \"2024-02-02T08:46:47.264599Z\", \"status\": \"Completed\", \"log_files\": {}, \"log_groups\": [], \"run_duration\": \"0:38:53\", \"run_number\": \"1706861273\", \"run_queued_details\": {\"status\": \"Completed\", \"details\": null}}, \"child_runs\": [{\"run_id\": \"AutoML_dbdd65df-e1ce-4515-a57c-23b8e29675df_setup\", \"run_number\": 1706861286, \"metric\": null, \"status\": \"Completed\", \"run_type\": \"azureml.scriptrun\", \"training_percent\": null, \"start_time\": \"2024-02-02T08:12:15.130582Z\", \"end_time\": \"2024-02-02T08:15:20.066602Z\", \"created_time\": \"2024-02-02T08:08:06.523301Z\", \"created_time_dt\": \"2024-02-02T08:08:06.523301Z\", \"duration\": \"0:07:13\", \"iteration\": null, \"goal\": null, \"run_name\": \"Completed\", \"run_properties\": null}, {\"run_id\": \"AutoML_dbdd65df-e1ce-4515-a57c-23b8e29675df_featurize\", \"run_number\": 1706861720, \"metric\": null, \"status\": \"Completed\", \"run_type\": \"automl.featurization\", \"training_percent\": null, \"start_time\": \"2024-02-02T08:15:20.566576Z\", \"end_time\": \"2024-02-02T08:16:59.613237Z\", \"created_time\": \"2024-02-02T08:15:20.326955Z\", \"created_time_dt\": \"2024-02-02T08:15:20.326955Z\", \"duration\": \"0:01:39\", \"iteration\": null, \"goal\": null, \"run_name\": \"Completed\", \"run_properties\": null}, {\"run_id\": \"AutoML_dbdd65df-e1ce-4515-a57c-23b8e29675df_0\", \"run_number\": 1706861821, \"metric\": null, \"status\": \"Completed\", \"run_type\": null, \"training_percent\": \"100\", \"start_time\": \"2024-02-02T08:17:35.266619Z\", \"end_time\": \"2024-02-02T08:17:47.823452Z\", \"created_time\": \"2024-02-02T08:17:01.32124Z\", \"created_time_dt\": \"2024-02-02T08:17:01.32124Z\", \"duration\": \"0:00:46\", \"iteration\": \"0\", \"goal\": \"r2_score_max\", \"run_name\": \"MaxAbsScaler, LightGBM\", \"run_properties\": \"copy=True\", \"primary_metric\": 0.37517679, \"best_metric\": 0.37517679}, {\"run_id\": \"AutoML_dbdd65df-e1ce-4515-a57c-23b8e29675df_2\", \"run_number\": 1706861822, \"metric\": null, \"status\": \"Completed\", \"run_type\": null, \"training_percent\": \"100\", \"start_time\": \"2024-02-02T08:18:01.070958Z\", \"end_time\": \"2024-02-02T08:18:14.366177Z\", \"created_time\": \"2024-02-02T08:17:02.527428Z\", \"created_time_dt\": \"2024-02-02T08:17:02.527428Z\", \"duration\": \"0:01:11\", \"iteration\": \"2\", \"goal\": \"r2_score_max\", \"run_name\": \"StandardScalerWrapper, XGBoostRegressor\", \"run_properties\": \"copy=True, with_mean=False, with_std=False\", \"primary_metric\": -1.0, \"best_metric\": 0.37517679}, {\"run_id\": \"AutoML_dbdd65df-e1ce-4515-a57c-23b8e29675df_worker_0\", \"run_number\": 1706861823, \"metric\": null, \"status\": \"Completed\", \"run_type\": \"azureml.scriptrun\", \"training_percent\": null, \"start_time\": \"2024-02-02T08:17:25.716127Z\", \"end_time\": \"2024-02-02T08:19:22.461023Z\", \"created_time\": \"2024-02-02T08:17:03.595901Z\", \"created_time_dt\": \"2024-02-02T08:17:03.595901Z\", \"duration\": \"0:02:18\", \"iteration\": null, \"goal\": null, \"run_name\": \"Completed\", \"run_properties\": null}, {\"run_id\": \"AutoML_dbdd65df-e1ce-4515-a57c-23b8e29675df_6\", \"run_number\": 1706861824, \"metric\": null, \"status\": \"Completed\", \"run_type\": null, \"training_percent\": \"100\", \"start_time\": \"2024-02-02T08:20:01.687298Z\", \"end_time\": \"2024-02-02T08:20:13.750552Z\", \"created_time\": \"2024-02-02T08:17:04.29244Z\", \"created_time_dt\": \"2024-02-02T08:17:04.29244Z\", \"duration\": \"0:03:09\", \"iteration\": \"6\", \"goal\": \"r2_score_max\", \"run_name\": \"MaxAbsScaler, RandomForest\", \"run_properties\": \"copy=True\", \"primary_metric\": 0.24973423, \"best_metric\": 0.37517679}, {\"run_id\": \"AutoML_dbdd65df-e1ce-4515-a57c-23b8e29675df_8\", \"run_number\": 1706861825, \"metric\": null, \"status\": \"Completed\", \"run_type\": null, \"training_percent\": \"100\", \"start_time\": \"2024-02-02T08:20:26.712828Z\", \"end_time\": \"2024-02-02T08:20:48.566672Z\", \"created_time\": \"2024-02-02T08:17:05.177479Z\", \"created_time_dt\": \"2024-02-02T08:17:05.177479Z\", \"duration\": \"0:03:43\", \"iteration\": \"8\", \"goal\": \"r2_score_max\", \"run_name\": \"StandardScalerWrapper, ExtremeRandomTrees\", \"run_properties\": \"copy=True, with_mean=False, with_std=False\", \"primary_metric\": 0.28360415, \"best_metric\": 0.37517679}, {\"run_id\": \"AutoML_dbdd65df-e1ce-4515-a57c-23b8e29675df_worker_1\", \"run_number\": 1706861826, \"metric\": null, \"status\": \"Completed\", \"run_type\": \"azureml.scriptrun\", \"training_percent\": null, \"start_time\": \"2024-02-02T08:19:38.334994Z\", \"end_time\": \"2024-02-02T08:21:10.667329Z\", \"created_time\": \"2024-02-02T08:17:06.03541Z\", \"created_time_dt\": \"2024-02-02T08:17:06.03541Z\", \"duration\": \"0:04:04\", \"iteration\": null, \"goal\": null, \"run_name\": \"Completed\", \"run_properties\": null}, {\"run_id\": \"AutoML_dbdd65df-e1ce-4515-a57c-23b8e29675df_12\", \"run_number\": 1706861827, \"metric\": null, \"status\": \"Completed\", \"run_type\": null, \"training_percent\": \"100\", \"start_time\": \"2024-02-02T08:24:30.81859Z\", \"end_time\": \"2024-02-02T08:25:10.920007Z\", \"created_time\": \"2024-02-02T08:17:07.280962Z\", \"created_time_dt\": \"2024-02-02T08:17:07.280962Z\", \"duration\": \"0:08:03\", \"iteration\": \"12\", \"goal\": \"r2_score_max\", \"run_name\": \"SparseNormalizer, XGBoostRegressor\", \"run_properties\": \"copy=True, norm='l1'\", \"primary_metric\": 0.30594503, \"best_metric\": 0.37517679}, {\"run_id\": \"AutoML_dbdd65df-e1ce-4515-a57c-23b8e29675df_worker_2\", \"run_number\": 1706861828, \"metric\": null, \"status\": \"Completed\", \"run_type\": \"azureml.scriptrun\", \"training_percent\": null, \"start_time\": \"2024-02-02T08:21:11.914103Z\", \"end_time\": \"2024-02-02T08:25:58.291736Z\", \"created_time\": \"2024-02-02T08:17:08.443733Z\", \"created_time_dt\": \"2024-02-02T08:17:08.443733Z\", \"duration\": \"0:08:49\", \"iteration\": null, \"goal\": null, \"run_name\": \"Completed\", \"run_properties\": null}, {\"run_id\": \"AutoML_dbdd65df-e1ce-4515-a57c-23b8e29675df_16\", \"run_number\": 1706861829, \"metric\": null, \"status\": \"Completed\", \"run_type\": null, \"training_percent\": \"100\", \"start_time\": \"2024-02-02T08:23:50.459161Z\", \"end_time\": \"2024-02-02T08:24:04.955987Z\", \"created_time\": \"2024-02-02T08:17:09.139369Z\", \"created_time_dt\": \"2024-02-02T08:17:09.139369Z\", \"duration\": \"0:06:55\", \"iteration\": \"16\", \"goal\": \"r2_score_max\", \"run_name\": \"MaxAbsScaler, RandomForest\", \"run_properties\": \"copy=True\", \"primary_metric\": 0.24005082, \"best_metric\": 0.37517679}, {\"run_id\": \"AutoML_dbdd65df-e1ce-4515-a57c-23b8e29675df_worker_3\", \"run_number\": 1706861830, \"metric\": null, \"status\": \"Completed\", \"run_type\": \"azureml.scriptrun\", \"training_percent\": null, \"start_time\": \"2024-02-02T08:21:11.83593Z\", \"end_time\": \"2024-02-02T08:25:15.994438Z\", \"created_time\": \"2024-02-02T08:17:10.723414Z\", \"created_time_dt\": \"2024-02-02T08:17:10.723414Z\", \"duration\": \"0:08:05\", \"iteration\": null, \"goal\": null, \"run_name\": \"Completed\", \"run_properties\": null}, {\"run_id\": \"AutoML_dbdd65df-e1ce-4515-a57c-23b8e29675df_20\", \"run_number\": 1706862310, \"metric\": null, \"status\": \"Completed\", \"run_type\": \"azureml.scriptrun\", \"training_percent\": \"100\", \"start_time\": \"2024-02-02T08:25:56.959861Z\", \"end_time\": \"2024-02-02T08:28:46.256137Z\", \"created_time\": \"2024-02-02T08:25:10.164908Z\", \"created_time_dt\": \"2024-02-02T08:25:10.164908Z\", \"duration\": \"0:03:36\", \"iteration\": \"20\", \"goal\": \"r2_score_max\", \"run_name\": \"StandardScalerWrapper, ElasticNet\", \"run_properties\": \"copy=True, with_mean=False, with_std=False\", \"primary_metric\": 0.28710407, \"best_metric\": 0.37517679}, {\"run_id\": \"AutoML_dbdd65df-e1ce-4515-a57c-23b8e29675df_22\", \"run_number\": 1706862337, \"metric\": null, \"status\": \"Completed\", \"run_type\": \"azureml.scriptrun\", \"training_percent\": \"100\", \"start_time\": \"2024-02-02T08:26:58.080439Z\", \"end_time\": \"2024-02-02T08:27:28.955101Z\", \"created_time\": \"2024-02-02T08:25:37.175235Z\", \"created_time_dt\": \"2024-02-02T08:25:37.175235Z\", \"duration\": \"0:01:51\", \"iteration\": \"22\", \"goal\": \"r2_score_max\", \"run_name\": \"SparseNormalizer, ExtremeRandomTrees\", \"run_properties\": \"copy=True, norm='l1'\", \"primary_metric\": 0.33732898, \"best_metric\": 0.37517679}, {\"run_id\": \"AutoML_dbdd65df-e1ce-4515-a57c-23b8e29675df_23\", \"run_number\": 1706862405, \"metric\": null, \"status\": \"Completed\", \"run_type\": \"azureml.scriptrun\", \"training_percent\": \"100\", \"start_time\": \"2024-02-02T08:28:00.476567Z\", \"end_time\": \"2024-02-02T08:30:47.691842Z\", \"created_time\": \"2024-02-02T08:26:45.619792Z\", \"created_time_dt\": \"2024-02-02T08:26:45.619792Z\", \"duration\": \"0:04:02\", \"iteration\": \"23\", \"goal\": \"r2_score_max\", \"run_name\": \"StandardScalerWrapper, LightGBM\", \"run_properties\": \"copy=True, with_mean=False, with_std=True\", \"primary_metric\": 0.31773053, \"best_metric\": 0.37517679}, {\"run_id\": \"AutoML_dbdd65df-e1ce-4515-a57c-23b8e29675df_25\", \"run_number\": 1706862452, \"metric\": null, \"status\": \"Completed\", \"run_type\": \"azureml.scriptrun\", \"training_percent\": \"100\", \"start_time\": \"2024-02-02T08:30:05.953317Z\", \"end_time\": \"2024-02-02T08:32:39.219228Z\", \"created_time\": \"2024-02-02T08:27:32.101164Z\", \"created_time_dt\": \"2024-02-02T08:27:32.101164Z\", \"duration\": \"0:05:07\", \"iteration\": \"25\", \"goal\": \"r2_score_max\", \"run_name\": \"StandardScalerWrapper, XGBoostRegressor\", \"run_properties\": \"copy=True, with_mean=False, with_std=False\", \"primary_metric\": -0.00586601, \"best_metric\": 0.37517679}, {\"run_id\": \"AutoML_dbdd65df-e1ce-4515-a57c-23b8e29675df_26\", \"run_number\": 1706862528, \"metric\": null, \"status\": \"Completed\", \"run_type\": \"azureml.scriptrun\", \"training_percent\": \"100\", \"start_time\": \"2024-02-02T08:31:33.861707Z\", \"end_time\": \"2024-02-02T08:34:31.389193Z\", \"created_time\": \"2024-02-02T08:28:48.062968Z\", \"created_time_dt\": \"2024-02-02T08:28:48.062968Z\", \"duration\": \"0:05:43\", \"iteration\": \"26\", \"goal\": \"r2_score_max\", \"run_name\": \"SparseNormalizer, XGBoostRegressor\", \"run_properties\": \"copy=True, norm='l1'\", \"primary_metric\": -1.0, \"best_metric\": 0.37517679}, {\"run_id\": \"AutoML_dbdd65df-e1ce-4515-a57c-23b8e29675df_27\", \"run_number\": 1706862649, \"metric\": null, \"status\": \"Completed\", \"run_type\": \"azureml.scriptrun\", \"training_percent\": \"100\", \"start_time\": \"2024-02-02T08:33:34.112748Z\", \"end_time\": \"2024-02-02T08:36:13.560343Z\", \"created_time\": \"2024-02-02T08:30:49.281449Z\", \"created_time_dt\": \"2024-02-02T08:30:49.281449Z\", \"duration\": \"0:05:24\", \"iteration\": \"27\", \"goal\": \"r2_score_max\", \"run_name\": \"SparseNormalizer, XGBoostRegressor\", \"run_properties\": \"copy=True, norm='l2'\", \"primary_metric\": -1.0, \"best_metric\": 0.37517679}, {\"run_id\": \"AutoML_dbdd65df-e1ce-4515-a57c-23b8e29675df_28\", \"run_number\": 1706862693, \"metric\": null, \"status\": \"Completed\", \"run_type\": \"azureml.scriptrun\", \"training_percent\": \"100\", \"start_time\": \"2024-02-02T08:34:10.234168Z\", \"end_time\": \"2024-02-02T08:36:46.273164Z\", \"created_time\": \"2024-02-02T08:31:33.358373Z\", \"created_time_dt\": \"2024-02-02T08:31:33.358373Z\", \"duration\": \"0:05:12\", \"iteration\": \"28\", \"goal\": \"r2_score_max\", \"run_name\": \"SparseNormalizer, XGBoostRegressor\", \"run_properties\": \"copy=True, norm='l1'\", \"primary_metric\": -0.12858794, \"best_metric\": 0.37517679}, {\"run_id\": \"AutoML_dbdd65df-e1ce-4515-a57c-23b8e29675df_29\", \"run_number\": 1706862760, \"metric\": null, \"status\": \"Completed\", \"run_type\": \"azureml.scriptrun\", \"training_percent\": \"100\", \"start_time\": \"2024-02-02T08:35:46.976356Z\", \"end_time\": \"2024-02-02T08:38:21.787268Z\", \"created_time\": \"2024-02-02T08:32:40.767847Z\", \"created_time_dt\": \"2024-02-02T08:32:40.767847Z\", \"duration\": \"0:05:41\", \"iteration\": \"29\", \"goal\": \"r2_score_max\", \"run_name\": \"StandardScalerWrapper, DecisionTree\", \"run_properties\": \"copy=True, with_mean=False, with_std=True\", \"primary_metric\": 0.35342917, \"best_metric\": 0.37517679}, {\"run_id\": \"AutoML_dbdd65df-e1ce-4515-a57c-23b8e29675df_30\", \"run_number\": 1706862873, \"metric\": null, \"status\": \"Completed\", \"run_type\": \"azureml.scriptrun\", \"training_percent\": \"100\", \"start_time\": \"2024-02-02T08:37:15.475061Z\", \"end_time\": \"2024-02-02T08:40:12.427841Z\", \"created_time\": \"2024-02-02T08:34:33.634722Z\", \"created_time_dt\": \"2024-02-02T08:34:33.634722Z\", \"duration\": \"0:05:38\", \"iteration\": \"30\", \"goal\": \"r2_score_max\", \"run_name\": \"StandardScalerWrapper, XGBoostRegressor\", \"run_properties\": \"copy=True, with_mean=False, with_std=False\", \"primary_metric\": -1.0, \"best_metric\": 0.37517679}, {\"run_id\": \"AutoML_dbdd65df-e1ce-4515-a57c-23b8e29675df_31\", \"run_number\": 1706862975, \"metric\": null, \"status\": \"Completed\", \"run_type\": \"azureml.scriptrun\", \"training_percent\": \"100\", \"start_time\": \"2024-02-02T08:39:17.947401Z\", \"end_time\": \"2024-02-02T08:42:00.981053Z\", \"created_time\": \"2024-02-02T08:36:15.066942Z\", \"created_time_dt\": \"2024-02-02T08:36:15.066942Z\", \"duration\": \"0:05:45\", \"iteration\": \"31\", \"goal\": \"r2_score_max\", \"run_name\": \"MaxAbsScaler, GradientBoosting\", \"run_properties\": \"copy=True\", \"primary_metric\": 0.23157762, \"best_metric\": 0.37517679}, {\"run_id\": \"AutoML_dbdd65df-e1ce-4515-a57c-23b8e29675df_32\", \"run_number\": 1706863007, \"metric\": null, \"status\": \"Completed\", \"run_type\": \"azureml.scriptrun\", \"training_percent\": \"100\", \"start_time\": \"2024-02-02T08:39:34.124907Z\", \"end_time\": \"2024-02-02T08:42:10.496348Z\", \"created_time\": \"2024-02-02T08:36:47.7866Z\", \"created_time_dt\": \"2024-02-02T08:36:47.7866Z\", \"duration\": \"0:05:22\", \"iteration\": \"32\", \"goal\": \"r2_score_max\", \"run_name\": \"MaxAbsScaler, GradientBoosting\", \"run_properties\": \"copy=True\", \"primary_metric\": 0.24919293, \"best_metric\": 0.37517679}, {\"run_id\": \"AutoML_dbdd65df-e1ce-4515-a57c-23b8e29675df_33\", \"run_number\": 1706863103, \"metric\": null, \"status\": \"Canceled\", \"run_type\": \"azureml.scriptrun\", \"training_percent\": \"100\", \"start_time\": \"2024-02-02T08:41:04.79173Z\", \"end_time\": \"2024-02-02T08:42:18.613686Z\", \"created_time\": \"2024-02-02T08:38:23.561697Z\", \"created_time_dt\": \"2024-02-02T08:38:23.561697Z\", \"duration\": \"0:03:55\", \"iteration\": \"33\", \"goal\": null, \"run_name\": \"Canceled\", \"run_properties\": null}, {\"run_id\": \"AutoML_dbdd65df-e1ce-4515-a57c-23b8e29675df_34\", \"run_number\": 1706863214, \"metric\": null, \"status\": \"Canceled\", \"run_type\": \"azureml.scriptrun\", \"training_percent\": \"100\", \"start_time\": \"2024-02-02T08:42:11.20431Z\", \"end_time\": \"2024-02-02T08:42:14.094696Z\", \"created_time\": \"2024-02-02T08:40:14.765045Z\", \"created_time_dt\": \"2024-02-02T08:40:14.765045Z\", \"duration\": \"0:01:59\", \"iteration\": \"34\", \"goal\": null, \"run_name\": \"Canceled\", \"run_properties\": null}, {\"run_id\": \"AutoML_dbdd65df-e1ce-4515-a57c-23b8e29675df_35\", \"run_number\": 1706863323, \"metric\": null, \"status\": \"Canceled\", \"run_type\": \"azureml.scriptrun\", \"training_percent\": \"100\", \"start_time\": \"2024-02-02T08:42:11.18858Z\", \"end_time\": \"2024-02-02T08:42:14.030307Z\", \"created_time\": \"2024-02-02T08:42:03.319937Z\", \"created_time_dt\": \"2024-02-02T08:42:03.319937Z\", \"duration\": \"0:00:10\", \"iteration\": \"35\", \"goal\": null, \"run_name\": \"Canceled\", \"run_properties\": null}, {\"run_id\": \"AutoML_dbdd65df-e1ce-4515-a57c-23b8e29675df_36\", \"run_number\": 1706863339, \"metric\": null, \"status\": \"Completed\", \"run_type\": \"azureml.scriptrun\", \"training_percent\": \"100\", \"start_time\": \"2024-02-02T08:42:40.749803Z\", \"end_time\": \"2024-02-02T08:45:38.467009Z\", \"created_time\": \"2024-02-02T08:42:19.327853Z\", \"created_time_dt\": \"2024-02-02T08:42:19.327853Z\", \"duration\": \"0:03:19\", \"iteration\": \"36\", \"goal\": \"r2_score_max\", \"run_name\": \"VotingEnsemble\", \"run_properties\": \"estimators=[('1', Pipeline(memory=None, steps=[('maxabsscaler', MaxAbsScaler(copy=True\", \"primary_metric\": 0.38514081, \"best_metric\": 0.38514081}], \"children_metrics\": {\"categories\": [0], \"series\": {\"root_mean_squared_error\": [{\"categories\": [\"0\", \"2\", \"6\", \"8\", \"12\", \"16\", \"20\", \"22\", \"23\", \"25\", \"26\", \"27\", \"28\", \"29\", \"30\", \"31\", \"32\", \"36\"], \"mode\": \"markers\", \"name\": \"root_mean_squared_error\", \"stepped\": false, \"type\": \"scatter\", \"data\": [49890.79574096195, 149245.4020251225, 54693.64497233201, 53442.83107814748, 52598.68829896125, 55046.57034830512, 53311.164876452356, 51395.8570001015, 52147.02129177132, 63333.432298754014, 159428.4516643386, 131023.46439503688, 67082.40121387191, 50754.663511664156, 161576.04576704898, 55352.93210638452, 54714.47787145765, 49496.196175007455]}, {\"categories\": [\"0\", \"2\", \"6\", \"8\", \"12\", \"16\", \"20\", \"22\", \"23\", \"25\", \"26\", \"27\", \"28\", \"29\", \"30\", \"31\", \"32\", \"36\"], \"mode\": \"lines\", \"name\": \"root_mean_squared_error_min\", \"stepped\": true, \"type\": \"scatter\", \"data\": [49890.79574096195, 49890.79574096195, 49890.79574096195, 49890.79574096195, 49890.79574096195, 49890.79574096195, 49890.79574096195, 49890.79574096195, 49890.79574096195, 49890.79574096195, 49890.79574096195, 49890.79574096195, 49890.79574096195, 49890.79574096195, 49890.79574096195, 49890.79574096195, 49890.79574096195, 49496.196175007455]}], \"normalized_mean_absolute_error\": [{\"categories\": [\"0\", \"2\", \"6\", \"8\", \"12\", \"16\", \"20\", \"22\", \"23\", \"25\", \"26\", \"27\", \"28\", \"29\", \"30\", \"31\", \"32\", \"36\"], \"mode\": \"markers\", \"name\": \"normalized_mean_absolute_error\", \"stepped\": false, \"type\": \"scatter\", \"data\": [0.08778228226076489, 0.3127109628549766, 0.09806170968944597, 0.09500752611837773, 0.09165865003972976, 0.09849922224468888, 0.09484968296812868, 0.09079232351113846, 0.09226497164751789, 0.11339570155412007, 0.3370318692279731, 0.26923638141996986, 0.11342816572241085, 0.08926682484530928, 0.3421066947883964, 0.09938722588477511, 0.0981967126345821, 0.08690432082155974]}, {\"categories\": [\"0\", \"2\", \"6\", \"8\", \"12\", \"16\", \"20\", \"22\", \"23\", \"25\", \"26\", \"27\", \"28\", \"29\", \"30\", \"31\", \"32\", \"36\"], \"mode\": \"lines\", \"name\": \"normalized_mean_absolute_error_min\", \"stepped\": true, \"type\": \"scatter\", \"data\": [0.08778228226076489, 0.08778228226076489, 0.08778228226076489, 0.08778228226076489, 0.08778228226076489, 0.08778228226076489, 0.08778228226076489, 0.08778228226076489, 0.08778228226076489, 0.08778228226076489, 0.08778228226076489, 0.08778228226076489, 0.08778228226076489, 0.08778228226076489, 0.08778228226076489, 0.08778228226076489, 0.08778228226076489, 0.08690432082155974]}], \"normalized_root_mean_squared_error\": [{\"categories\": [\"0\", \"2\", \"6\", \"8\", \"12\", \"16\", \"20\", \"22\", \"23\", \"25\", \"26\", \"27\", \"28\", \"29\", \"30\", \"31\", \"32\", \"36\"], \"mode\": \"markers\", \"name\": \"normalized_root_mean_squared_error\", \"stepped\": false, \"type\": \"scatter\", \"data\": [0.11469148446198149, 0.3430928782186724, 0.12573251717777473, 0.12285708293827009, 0.12091652482519828, 0.1265438398811612, 0.122554402014833, 0.11815139540253221, 0.11987820986614095, 0.14559409723851496, 0.3665021877341117, 0.30120336642537215, 0.15421241658361357, 0.11667738738313597, 0.371439185671377, 0.12724811978479203, 0.12578040889990266, 0.11378435902300563]}, {\"categories\": [\"0\", \"2\", \"6\", \"8\", \"12\", \"16\", \"20\", \"22\", \"23\", \"25\", \"26\", \"27\", \"28\", \"29\", \"30\", \"31\", \"32\", \"36\"], \"mode\": \"lines\", \"name\": \"normalized_root_mean_squared_error_min\", \"stepped\": true, \"type\": \"scatter\", \"data\": [0.11469148446198149, 0.11469148446198149, 0.11469148446198149, 0.11469148446198149, 0.11469148446198149, 0.11469148446198149, 0.11469148446198149, 0.11469148446198149, 0.11469148446198149, 0.11469148446198149, 0.11469148446198149, 0.11469148446198149, 0.11469148446198149, 0.11469148446198149, 0.11469148446198149, 0.11469148446198149, 0.11469148446198149, 0.11378435902300563]}], \"spearman_correlation\": [{\"categories\": [\"0\", \"2\", \"6\", \"8\", \"12\", \"16\", \"20\", \"22\", \"23\", \"25\", \"26\", \"27\", \"28\", \"29\", \"30\", \"31\", \"32\", \"36\"], \"mode\": \"markers\", \"name\": \"spearman_correlation\", \"stepped\": false, \"type\": \"scatter\", \"data\": [0.6166860763690971, 0.6121878663576954, 0.5757187250980496, 0.5598062946687216, 0.5921590187354505, 0.5329799674247258, 0.5687102127424281, 0.5876965807298122, 0.5768054331305701, -1.0, 0.6013708553491457, 0.6020104169335176, 0.6036458210820266, 0.6003550225543522, 0.5946257745396176, 0.5628956930588872, 0.5643578469191468, 0.6222380785769575]}, {\"categories\": [\"0\", \"2\", \"6\", \"8\", \"12\", \"16\", \"20\", \"22\", \"23\", \"25\", \"26\", \"27\", \"28\", \"29\", \"30\", \"31\", \"32\", \"36\"], \"mode\": \"lines\", \"name\": \"spearman_correlation_max\", \"stepped\": true, \"type\": \"scatter\", \"data\": [0.6166860763690971, 0.6166860763690971, 0.6166860763690971, 0.6166860763690971, 0.6166860763690971, 0.6166860763690971, 0.6166860763690971, 0.6166860763690971, 0.6166860763690971, 0.6166860763690971, 0.6166860763690971, 0.6166860763690971, 0.6166860763690971, 0.6166860763690971, 0.6166860763690971, 0.6166860763690971, 0.6166860763690971, 0.6222380785769575]}], \"median_absolute_error\": [{\"categories\": [\"0\", \"2\", \"6\", \"8\", \"12\", \"16\", \"20\", \"22\", \"23\", \"25\", \"26\", \"27\", \"28\", \"29\", \"30\", \"31\", \"32\", \"36\"], \"mode\": \"markers\", \"name\": \"median_absolute_error\", \"stepped\": false, \"type\": \"scatter\", \"data\": [30866.874760365998, 128160.1900390625, 35547.88253304003, 34331.655874986216, 31969.321875, 35348.49636202409, 33926.19568002005, 32517.591993596307, 32756.403137041558, 40377.134375, 139605.59296875, 108823.009375, 35647.1734375, 31388.37533632599, 141842.14665527345, 35735.30591932971, 35614.18872010228, 30543.387459133628]}, {\"categories\": [\"0\", \"2\", \"6\", \"8\", \"12\", \"16\", \"20\", \"22\", \"23\", \"25\", \"26\", \"27\", \"28\", \"29\", \"30\", \"31\", \"32\", \"36\"], \"mode\": \"lines\", \"name\": \"median_absolute_error_min\", \"stepped\": true, \"type\": \"scatter\", \"data\": [30866.874760365998, 30866.874760365998, 30866.874760365998, 30866.874760365998, 30866.874760365998, 30866.874760365998, 30866.874760365998, 30866.874760365998, 30866.874760365998, 30866.874760365998, 30866.874760365998, 30866.874760365998, 30866.874760365998, 30866.874760365998, 30866.874760365998, 30866.874760365998, 30866.874760365998, 30543.387459133628]}], \"root_mean_squared_log_error\": [{\"categories\": [\"0\", \"2\", \"6\", \"8\", \"12\", \"16\", \"20\", \"22\", \"23\", \"25\", \"26\", \"27\", \"28\", \"29\", \"30\", \"31\", \"32\", \"36\"], \"mode\": \"markers\", \"name\": \"root_mean_squared_log_error\", \"stepped\": false, \"type\": \"scatter\", \"data\": [0.34565164009080657, 2.309028133832165, 0.40809167766962096, 0.3921389278531365, NaN, 0.4111785935194667, 0.38999784867859144, 0.36182218871574806, 0.3731813035071107, 0.475628868582629, 3.659951734442987, 1.4890043442052185, 0.4368317613524731, 0.3536398881635098, 4.573545626561028, 0.4182042977449158, 0.41191663569226644, 0.3409368381207109]}, {\"categories\": [\"0\", \"2\", \"6\", \"8\", \"12\", \"16\", \"20\", \"22\", \"23\", \"25\", \"26\", \"27\", \"28\", \"29\", \"30\", \"31\", \"32\", \"36\"], \"mode\": \"lines\", \"name\": \"root_mean_squared_log_error_min\", \"stepped\": true, \"type\": \"scatter\", \"data\": [0.34565164009080657, 0.34565164009080657, 0.34565164009080657, 0.34565164009080657, 0.34565164009080657, 0.34565164009080657, 0.34565164009080657, 0.34565164009080657, 0.34565164009080657, 0.34565164009080657, 0.34565164009080657, 0.34565164009080657, 0.34565164009080657, 0.34565164009080657, 0.34565164009080657, 0.34565164009080657, 0.34565164009080657, 0.3409368381207109]}], \"explained_variance\": [{\"categories\": [\"0\", \"2\", \"6\", \"8\", \"12\", \"16\", \"20\", \"22\", \"23\", \"25\", \"26\", \"27\", \"28\", \"29\", \"30\", \"31\", \"32\", \"36\"], \"mode\": \"markers\", \"name\": \"explained_variance\", \"stepped\": false, \"type\": \"scatter\", \"data\": [0.3756356810229032, 0.0546026323166233, 0.2503041557453927, 0.2842209727460846, 0.3067258038080052, 0.24068278283108963, 0.2876590823999833, 0.3379252428917757, 0.3184639653798921, -4.4408920985006264e-17, 0.016217717614268223, 0.13424782744355754, 0.3175174396061993, 0.3538903867629636, 0.006878934164138562, 0.2322148745732992, 0.2498629511596966, 0.3856050556491951]}, {\"categories\": [\"0\", \"2\", \"6\", \"8\", \"12\", \"16\", \"20\", \"22\", \"23\", \"25\", \"26\", \"27\", \"28\", \"29\", \"30\", \"31\", \"32\", \"36\"], \"mode\": \"lines\", \"name\": \"explained_variance_max\", \"stepped\": true, \"type\": \"scatter\", \"data\": [0.3756356810229032, 0.3756356810229032, 0.3756356810229032, 0.3756356810229032, 0.3756356810229032, 0.3756356810229032, 0.3756356810229032, 0.3756356810229032, 0.3756356810229032, 0.3756356810229032, 0.3756356810229032, 0.3756356810229032, 0.3756356810229032, 0.3756356810229032, 0.3756356810229032, 0.3756356810229032, 0.3756356810229032, 0.3856050556491951]}], \"normalized_median_absolute_error\": [{\"categories\": [\"0\", \"2\", \"6\", \"8\", \"12\", \"16\", \"20\", \"22\", \"23\", \"25\", \"26\", \"27\", \"28\", \"29\", \"30\", \"31\", \"32\", \"36\"], \"mode\": \"markers\", \"name\": \"normalized_median_absolute_error\", \"stepped\": false, \"type\": \"scatter\", \"data\": [0.07095833278245059, 0.2946211265265804, 0.08171927019089661, 0.07892334683904877, 0.07349269396551725, 0.08126091117706687, 0.07799125443682771, 0.07475308504275012, 0.07530207617710705, 0.09282099856321839, 0.32093239762931036, 0.25016783764367817, 0.08194752514367816, 0.07215718468120917, 0.32607390035695044, 0.08215012855018322, 0.08187169820713167, 0.0702146838141003]}, {\"categories\": [\"0\", \"2\", \"6\", \"8\", \"12\", \"16\", \"20\", \"22\", \"23\", \"25\", \"26\", \"27\", \"28\", \"29\", \"30\", \"31\", \"32\", \"36\"], \"mode\": \"lines\", \"name\": \"normalized_median_absolute_error_min\", \"stepped\": true, \"type\": \"scatter\", \"data\": [0.07095833278245059, 0.07095833278245059, 0.07095833278245059, 0.07095833278245059, 0.07095833278245059, 0.07095833278245059, 0.07095833278245059, 0.07095833278245059, 0.07095833278245059, 0.07095833278245059, 0.07095833278245059, 0.07095833278245059, 0.07095833278245059, 0.07095833278245059, 0.07095833278245059, 0.07095833278245059, 0.07095833278245059, 0.0702146838141003]}], \"mean_absolute_error\": [{\"categories\": [\"0\", \"2\", \"6\", \"8\", \"12\", \"16\", \"20\", \"22\", \"23\", \"25\", \"26\", \"27\", \"28\", \"29\", \"30\", \"31\", \"32\", \"36\"], \"mode\": \"markers\", \"name\": \"mean_absolute_error\", \"stepped\": false, \"type\": \"scatter\", \"data\": [38185.292783432735, 136029.26884191483, 42656.843714908995, 41328.27386149431, 39871.512767282446, 42847.16167643967, 41259.612091135976, 39494.66072734523, 40135.26266667029, 49327.13017604222, 146608.86311416829, 117117.82591768689, 49341.25208924872, 38831.06880770953, 148816.41223295245, 43233.443259877175, 42715.56999604322, 37803.37955737848]}, {\"categories\": [\"0\", \"2\", \"6\", \"8\", \"12\", \"16\", \"20\", \"22\", \"23\", \"25\", \"26\", \"27\", \"28\", \"29\", \"30\", \"31\", \"32\", \"36\"], \"mode\": \"lines\", \"name\": \"mean_absolute_error_min\", \"stepped\": true, \"type\": \"scatter\", \"data\": [38185.292783432735, 38185.292783432735, 38185.292783432735, 38185.292783432735, 38185.292783432735, 38185.292783432735, 38185.292783432735, 38185.292783432735, 38185.292783432735, 38185.292783432735, 38185.292783432735, 38185.292783432735, 38185.292783432735, 38185.292783432735, 38185.292783432735, 38185.292783432735, 38185.292783432735, 37803.37955737848]}], \"r2_score\": [{\"categories\": [\"0\", \"2\", \"6\", \"8\", \"12\", \"16\", \"20\", \"22\", \"23\", \"25\", \"26\", \"27\", \"28\", \"29\", \"30\", \"31\", \"32\", \"36\"], \"mode\": \"markers\", \"name\": \"r2_score\", \"stepped\": false, \"type\": \"scatter\", \"data\": [0.3751767882626861, -1.0, 0.2497342289293149, 0.28360414516066196, 0.3059450284162698, 0.24005082467562416, 0.2871040724005184, 0.3373289769831035, 0.31773052635116283, -0.005866007901808912, -1.0, -1.0, -0.12858794434899798, 0.3534291706180393, -1.0, 0.23157762005228225, 0.24919293029864953, 0.38514080554422836]}, {\"categories\": [\"0\", \"2\", \"6\", \"8\", \"12\", \"16\", \"20\", \"22\", \"23\", \"25\", \"26\", \"27\", \"28\", \"29\", \"30\", \"31\", \"32\", \"36\"], \"mode\": \"lines\", \"name\": \"r2_score_max\", \"stepped\": true, \"type\": \"scatter\", \"data\": [0.3751767882626861, 0.3751767882626861, 0.3751767882626861, 0.3751767882626861, 0.3751767882626861, 0.3751767882626861, 0.3751767882626861, 0.3751767882626861, 0.3751767882626861, 0.3751767882626861, 0.3751767882626861, 0.3751767882626861, 0.3751767882626861, 0.3751767882626861, 0.3751767882626861, 0.3751767882626861, 0.3751767882626861, 0.38514080554422836]}], \"mean_absolute_percentage_error\": [{\"categories\": [\"0\", \"2\", \"6\", \"8\", \"12\", \"16\", \"20\", \"22\", \"23\", \"25\", \"26\", \"27\", \"28\", \"29\", \"30\", \"31\", \"32\", \"36\"], \"mode\": \"markers\", \"name\": \"mean_absolute_percentage_error\", \"stepped\": false, \"type\": \"scatter\", \"data\": [29.989611613385286, 89.1130113380103, 37.69871255022781, 35.164534164799534, 31.67368949661452, 37.84314368871547, 35.38273133983123, 31.920519612183476, 33.21678828953346, 45.17423094306133, 97.21496674409636, 75.0129204167813, 29.707787428438753, 30.713189403540195, 98.88663453611926, 38.802892783570954, 38.0344037645804, 29.608013754315294]}, {\"categories\": [\"0\", \"2\", \"6\", \"8\", \"12\", \"16\", \"20\", \"22\", \"23\", \"25\", \"26\", \"27\", \"28\", \"29\", \"30\", \"31\", \"32\", \"36\"], \"mode\": \"lines\", \"name\": \"mean_absolute_percentage_error_min\", \"stepped\": true, \"type\": \"scatter\", \"data\": [29.989611613385286, 29.989611613385286, 29.989611613385286, 29.989611613385286, 29.989611613385286, 29.989611613385286, 29.989611613385286, 29.989611613385286, 29.989611613385286, 29.989611613385286, 29.989611613385286, 29.989611613385286, 29.707787428438753, 29.707787428438753, 29.707787428438753, 29.707787428438753, 29.707787428438753, 29.608013754315294]}], \"normalized_root_mean_squared_log_error\": [{\"categories\": [\"0\", \"2\", \"6\", \"8\", \"12\", \"16\", \"20\", \"22\", \"23\", \"25\", \"26\", \"27\", \"28\", \"29\", \"30\", \"31\", \"32\", \"36\"], \"mode\": \"markers\", \"name\": \"normalized_root_mean_squared_log_error\", \"stepped\": false, \"type\": \"scatter\", \"data\": [0.10162838273178058, 0.6788997004669088, 0.11998698226042577, 0.11529655995099275, NaN, 0.12089459625400181, 0.11466704054887873, 0.1063828421759964, 0.10972264541028039, 0.13984424515358995, 1.0, 0.4377965727066046, 0.12843713231178083, 0.10397708483044794, 1.0, 0.12296029152394658, 0.1211115951734624, 0.10024213819090252]}, {\"categories\": [\"0\", \"2\", \"6\", \"8\", \"12\", \"16\", \"20\", \"22\", \"23\", \"25\", \"26\", \"27\", \"28\", \"29\", \"30\", \"31\", \"32\", \"36\"], \"mode\": \"lines\", \"name\": \"normalized_root_mean_squared_log_error_min\", \"stepped\": true, \"type\": \"scatter\", \"data\": [0.10162838273178058, 0.10162838273178058, 0.10162838273178058, 0.10162838273178058, 0.10162838273178058, 0.10162838273178058, 0.10162838273178058, 0.10162838273178058, 0.10162838273178058, 0.10162838273178058, 0.10162838273178058, 0.10162838273178058, 0.10162838273178058, 0.10162838273178058, 0.10162838273178058, 0.10162838273178058, 0.10162838273178058, 0.10024213819090252]}]}, \"metricName\": null, \"primaryMetricName\": \"r2_score\", \"showLegend\": false}, \"run_metrics\": [{\"name\": \"experiment_status\", \"run_id\": \"AutoML_dbdd65df-e1ce-4515-a57c-23b8e29675df\", \"categories\": [0, 1, 2, 3, 4, 5, 6, 7, 8, 9, 10, 11, 12, 13], \"series\": [{\"data\": [\"DatasetEvaluation\", \"FeaturesGeneration\", \"DatasetFeaturization\", \"DatasetFeaturizationCompleted\", \"DatasetCrossValidationSplit\", \"ModelSelection\", \"BestRunExplainModel\", \"ModelExplanationDataSetSetup\", \"PickSurrogateModel\", \"EngineeredFeatureExplanations\", \"EngineeredFeatureExplanations\", \"RawFeaturesExplanations\", \"RawFeaturesExplanations\", \"BestRunExplainModel\"]}]}, {\"name\": \"experiment_status_description\", \"run_id\": \"AutoML_dbdd65df-e1ce-4515-a57c-23b8e29675df\", \"categories\": [0, 1, 2, 3, 4, 5, 6, 7, 8, 9, 10, 11, 12, 13], \"series\": [{\"data\": [\"Gathering dataset statistics.\", \"Generating features for the dataset.\", \"Beginning to fit featurizers and featurize the dataset.\", \"Completed fit featurizers and featurizing the dataset.\", \"Generating individually featurized CV splits.\", \"Beginning model selection.\", \"Best run model explanations started\", \"Model explanations data setup completed\", \"Choosing LightGBM as the surrogate model for explanations\", \"Computation of engineered features started\", \"Computation of engineered features completed\", \"Computation of raw features started\", \"Computation of raw features completed\", \"Best run model explanations completed\"]}]}, {\"name\": \"mean_absolute_error\", \"run_id\": \"AutoML_dbdd65df-e1ce-4515-a57c-23b8e29675df\", \"categories\": [0], \"series\": [{\"data\": [37803.37955737848]}]}, {\"name\": \"normalized_median_absolute_error\", \"run_id\": \"AutoML_dbdd65df-e1ce-4515-a57c-23b8e29675df\", \"categories\": [0], \"series\": [{\"data\": [0.0702146838141003]}]}, {\"name\": \"spearman_correlation\", \"run_id\": \"AutoML_dbdd65df-e1ce-4515-a57c-23b8e29675df\", \"categories\": [0], \"series\": [{\"data\": [0.6222380785769575]}]}, {\"name\": \"root_mean_squared_log_error\", \"run_id\": \"AutoML_dbdd65df-e1ce-4515-a57c-23b8e29675df\", \"categories\": [0], \"series\": [{\"data\": [0.3409368381207109]}]}, {\"name\": \"mean_absolute_percentage_error\", \"run_id\": \"AutoML_dbdd65df-e1ce-4515-a57c-23b8e29675df\", \"categories\": [0], \"series\": [{\"data\": [29.608013754315294]}]}, {\"name\": \"root_mean_squared_error\", \"run_id\": \"AutoML_dbdd65df-e1ce-4515-a57c-23b8e29675df\", \"categories\": [0], \"series\": [{\"data\": [49496.196175007455]}]}, {\"name\": \"normalized_root_mean_squared_error\", \"run_id\": \"AutoML_dbdd65df-e1ce-4515-a57c-23b8e29675df\", \"categories\": [0], \"series\": [{\"data\": [0.11378435902300563]}]}, {\"name\": \"normalized_mean_absolute_error\", \"run_id\": \"AutoML_dbdd65df-e1ce-4515-a57c-23b8e29675df\", \"categories\": [0], \"series\": [{\"data\": [0.08690432082155974]}]}, {\"name\": \"normalized_root_mean_squared_log_error\", \"run_id\": \"AutoML_dbdd65df-e1ce-4515-a57c-23b8e29675df\", \"categories\": [0], \"series\": [{\"data\": [0.10024213819090252]}]}, {\"name\": \"r2_score\", \"run_id\": \"AutoML_dbdd65df-e1ce-4515-a57c-23b8e29675df\", \"categories\": [0], \"series\": [{\"data\": [0.38514080554422836]}]}, {\"name\": \"median_absolute_error\", \"run_id\": \"AutoML_dbdd65df-e1ce-4515-a57c-23b8e29675df\", \"categories\": [0], \"series\": [{\"data\": [30543.387459133628]}]}, {\"name\": \"explained_variance\", \"run_id\": \"AutoML_dbdd65df-e1ce-4515-a57c-23b8e29675df\", \"categories\": [0], \"series\": [{\"data\": [0.3856050556491951]}]}], \"run_logs\": \"\\nRun is completed.\", \"graph\": {}, \"widget_settings\": {\"childWidgetDisplay\": \"popup\", \"send_telemetry\": false, \"log_level\": \"INFO\", \"sdk_version\": \"1.51.0\"}, \"loading\": false}"
     },
     "metadata": {},
     "output_type": "display_data"
    }
   ],
   "source": [
    "RunDetails(remote_run).show()"
   ]
  },
  {
   "cell_type": "markdown",
   "metadata": {},
   "source": [
    "## Best Model\n",
    "\n",
    "TODO: In the cell below, get the best model from the automl experiments and display all the properties of the model.\n",
    "\n"
   ]
  },
  {
   "cell_type": "code",
   "execution_count": 8,
   "metadata": {
    "gather": {
     "logged": 1598431425670
    },
    "jupyter": {
     "outputs_hidden": false,
     "source_hidden": false
    },
    "nteract": {
     "transient": {
      "deleting": false
     }
    }
   },
   "outputs": [
    {
     "name": "stderr",
     "output_type": "stream",
     "text": [
      "WARNING:root:The version of the SDK does not match the version the model was trained on.\n",
      "WARNING:root:The consistency in the result may not be guaranteed.\n",
      "WARNING:root:Package:azureml-automl-core, training version:1.52.0.post1, current version:1.51.0.post1\n",
      "Package:azureml-automl-runtime, training version:1.52.0.post1, current version:1.51.0.post1\n",
      "Package:azureml-core, training version:1.52.0, current version:1.51.0\n",
      "Package:azureml-dataprep, training version:4.11.4, current version:4.10.8\n",
      "Package:azureml-dataprep-rslex, training version:2.18.4, current version:2.17.12\n",
      "Package:azureml-dataset-runtime, training version:1.52.0, current version:1.51.0\n",
      "Package:azureml-defaults, training version:1.52.0, current version:1.51.0\n",
      "Package:azureml-interpret, training version:1.52.0, current version:1.51.0\n",
      "Package:azureml-mlflow, training version:1.52.0, current version:1.51.0\n",
      "Package:azureml-pipeline-core, training version:1.52.0, current version:1.51.0\n",
      "Package:azureml-responsibleai, training version:1.52.0, current version:1.51.0\n",
      "Package:azureml-telemetry, training version:1.52.0, current version:1.51.0\n",
      "Package:azureml-train-automl-client, training version:1.52.0, current version:1.51.0.post1\n",
      "Package:azureml-train-automl-runtime, training version:1.52.0, current version:1.51.0.post2\n",
      "Package:azureml-train-core, training version:1.52.0, current version:1.51.0\n",
      "Package:azureml-train-restclients-hyperdrive, training version:1.52.0, current version:1.51.0\n",
      "Package:azureml-training-tabular, training version:1.52.0, current version:1.51.0.post1\n",
      "WARNING:root:Please ensure the version of your local conda dependencies match the version on which your model was trained in order to properly retrieve your model.\n"
     ]
    },
    {
     "name": "stdout",
     "output_type": "stream",
     "text": [
      "Run(Experiment: my-automl-experiment,\n",
      "Id: AutoML_dbdd65df-e1ce-4515-a57c-23b8e29675df_36,\n",
      "Type: azureml.scriptrun,\n",
      "Status: Completed)\n",
      "explained_variance 0.3856050556491951\n",
      "r2_score 0.38514080554422836\n",
      "normalized_mean_absolute_error 0.08690432082155974\n",
      "normalized_median_absolute_error 0.0702146838141003\n",
      "spearman_correlation 0.6222380785769575\n",
      "root_mean_squared_error 49496.196175007455\n",
      "root_mean_squared_log_error 0.3409368381207109\n",
      "normalized_root_mean_squared_log_error 0.10024213819090252\n",
      "normalized_root_mean_squared_error 0.11378435902300563\n",
      "median_absolute_error 30543.387459133628\n",
      "mean_absolute_percentage_error 29.608013754315294\n",
      "mean_absolute_error 37803.37955737848\n",
      "predicted_true aml://artifactId/ExperimentRun/dcid.AutoML_dbdd65df-e1ce-4515-a57c-23b8e29675df_36/predicted_true\n",
      "residuals aml://artifactId/ExperimentRun/dcid.AutoML_dbdd65df-e1ce-4515-a57c-23b8e29675df_36/residuals\n"
     ]
    }
   ],
   "source": [
    "best_model, best_model_metrics = remote_run.get_output()\n",
    "best_model.get_properties()\n",
    "print(best_model)\n",
    "best_model_metrics = best_model.get_metrics()\n",
    "\n",
    "for metric_name in best_model_metrics:\n",
    "    metric = best_model_metrics[metric_name]\n",
    "    print(metric_name, metric)\n",
    "\n"
   ]
  },
  {
   "cell_type": "code",
   "execution_count": 9,
   "metadata": {
    "gather": {
     "logged": 1598431426111
    },
    "jupyter": {
     "outputs_hidden": false,
     "source_hidden": false
    },
    "nteract": {
     "transient": {
      "deleting": false
     }
    }
   },
   "outputs": [],
   "source": [
    "#TODO: Save the best model\n",
    "import joblib\n",
    "#os.makedirs('./outputs', exist_ok=True)\n",
    "#joblib.dump(best_model, filename='outputs/best_automl_model.joblib')\n",
    "\n",
    "myModel = best_model.register_model(model_name='best_automl_model', model_path='outputs/model.pkl')\n"
   ]
  },
  {
   "cell_type": "markdown",
   "metadata": {},
   "source": [
    "## Model Deployment\n",
    "\n",
    "Remember you have to deploy only one of the two models you trained but you still need to register both the models. Perform the steps in the rest of this notebook only if you wish to deploy this model.\n",
    "\n",
    "TODO: In the cell below, register the model, create an inference config and deploy the model as a web service."
   ]
  },
  {
   "cell_type": "code",
   "execution_count": 10,
   "metadata": {
    "gather": {
     "logged": 1598431435189
    },
    "jupyter": {
     "outputs_hidden": false,
     "source_hidden": false
    },
    "nteract": {
     "transient": {
      "deleting": false
     }
    }
   },
   "outputs": [],
   "source": [
    "# Download scoring file \n",
    "best_model.download_file('outputs/scoring_file_v_1_0_0.py', 'scoreScript.py')\n",
    "\n",
    "# Download environment file\n",
    "best_model.download_file('outputs/conda_env_v_1_0_0.yml', 'envFile.yml')\n",
    "\n",
    "from azureml.automl.core.shared import constants\n",
    "best_model.download_file(constants.CONDA_ENV_FILE_PATH, 'myenv.yml')"
   ]
  },
  {
   "cell_type": "markdown",
   "metadata": {
    "collapsed": true,
    "gather": {
     "logged": 1598431657736
    },
    "jupyter": {
     "outputs_hidden": false,
     "source_hidden": false
    },
    "nteract": {
     "transient": {
      "deleting": false
     }
    }
   },
   "source": [
    "TODO: In the cell below, send a request to the web service you deployed to test it."
   ]
  },
  {
   "cell_type": "code",
   "execution_count": 11,
   "metadata": {
    "gather": {
     "logged": 1598432707604
    },
    "jupyter": {
     "outputs_hidden": false,
     "source_hidden": false
    },
    "nteract": {
     "transient": {
      "deleting": false
     }
    }
   },
   "outputs": [
    {
     "name": "stdout",
     "output_type": "stream",
     "text": [
      "Tips: You can try get_logs(): https://aka.ms/debugimage#dockerlog or local deployment: https://aka.ms/debugimage#debug-locally to debug if deployment takes longer than 10 minutes.\n",
      "Running\n",
      "2024-02-02 08:51:31+00:00 Creating Container Registry if not exists.\n",
      "2024-02-02 08:51:32+00:00 Registering the environment.\n",
      "2024-02-02 08:51:32+00:00 Use the existing image.\n",
      "2024-02-02 08:51:32+00:00 Submitting deployment to compute.\n",
      "2024-02-02 08:51:38+00:00 Checking the status of deployment myservice..\n",
      "2024-02-02 08:53:42+00:00 Checking the status of inference endpoint myservice.\n",
      "Succeeded\n",
      "ACI service creation operation finished, operation \"Succeeded\"\n",
      "Healthy\n",
      "http://f39424c3-dd9f-484d-a7ca-987c2aef90e2.westus2.azurecontainer.io/score\n",
      "http://f39424c3-dd9f-484d-a7ca-987c2aef90e2.westus2.azurecontainer.io/swagger.json\n"
     ]
    }
   ],
   "source": [
    "from azureml.core.environment import Environment\n",
    "from azureml.core.model import InferenceConfig\n",
    "from azureml.core import Model\n",
    "\n",
    "inference_config = InferenceConfig(entry_script='scoreScript.py',\n",
    "                                    environment=best_model.get_environment())\n",
    "\n",
    "# deploy\n",
    "from azureml.core.webservice import AciWebservice\n",
    "\n",
    "deployment_config = AciWebservice.deploy_configuration(cpu_cores = 1, memory_gb = 1)\n",
    "service = Model.deploy(ws, \"myservice\", [myModel], inference_config, deployment_config)\n",
    "service.wait_for_deployment(show_output = True)\n",
    "print(service.state)\n",
    "\n",
    "print(service.scoring_uri)\n",
    "\n",
    "print(service.swagger_uri)"
   ]
  },
  {
   "cell_type": "markdown",
   "metadata": {
    "collapsed": true,
    "gather": {
     "logged": 1598432765711
    },
    "jupyter": {
     "outputs_hidden": false,
     "source_hidden": false
    },
    "nteract": {
     "transient": {
      "deleting": false
     }
    }
   },
   "source": [
    "TODO: In the cell below, print the logs of the web service and delete the service"
   ]
  },
  {
   "cell_type": "code",
   "execution_count": 16,
   "metadata": {
    "jupyter": {
     "outputs_hidden": false,
     "source_hidden": false
    },
    "nteract": {
     "transient": {
      "deleting": false
     }
    }
   },
   "outputs": [
    {
     "name": "stdout",
     "output_type": "stream",
     "text": [
      "{\"data\": [{\"work_year\": 2023, \"job_title\": \"Machine Learning Engineer\", \"job_category\": \"Machine Learning and AI\", \"employee_residence\": \"United States\", \"experience_level\": \"Senior\", \"employment_type\": \"Full-time\", \"work_setting\": \"In-person\", \"company_location\": \"United States\", \"company_size\": \"M\"}, {\"work_year\": 2023, \"job_title\": \"Machine Learning Engineer\", \"job_category\": \"Machine Learning and AI\", \"employee_residence\": \"United States\", \"experience_level\": \"Senior\", \"employment_type\": \"Full-time\", \"work_setting\": \"Remote\", \"company_location\": \"United States\", \"company_size\": \"M\"}, {\"work_year\": 2023, \"job_title\": \"Data Analyst\", \"job_category\": \"Data Analysis\", \"employee_residence\": \"United States\", \"experience_level\": \"Senior\", \"employment_type\": \"Full-time\", \"work_setting\": \"Remote\", \"company_location\": \"United States\", \"company_size\": \"M\"}, {\"work_year\": 2022, \"job_title\": \"Applied Scientist\", \"job_category\": \"Data Science and Research\", \"employee_residence\": \"United States\", \"experience_level\": \"Senior\", \"employment_type\": \"Full-time\", \"work_setting\": \"Remote\", \"company_location\": \"United States\", \"company_size\": \"M\"}, {\"work_year\": 2023, \"job_title\": \"Data Engineer\", \"job_category\": \"Data Engineering\", \"employee_residence\": \"United States\", \"experience_level\": \"Mid-level\", \"employment_type\": \"Full-time\", \"work_setting\": \"In-person\", \"company_location\": \"United States\", \"company_size\": \"M\"}]}\n"
     ]
    }
   ],
   "source": [
    "import json\n",
    "\n",
    "\n",
    "# df is the data as seen by the model during training\n",
    "df = pd.read_csv('jobs_in_data.csv')\n",
    "df = df.drop(columns=['salary_currency', 'salary'])\n",
    "\n",
    "\n",
    "test_df = df.sample(5) # data is the pandas dataframe of the original data\n",
    "label_df = test_df.pop('salary_in_usd')\n",
    "\n",
    "test_sample = json.dumps({'data': test_df.to_dict(orient='records')})\n",
    "\n",
    "print(test_sample)\n"
   ]
  },
  {
   "cell_type": "code",
   "execution_count": 17,
   "metadata": {},
   "outputs": [],
   "source": [
    "import requests # Used for http post request\n",
    "\n",
    "# Set the content type\n",
    "headers = {'Content-type': 'application/json'}\n",
    "\n",
    "\n",
    "response = requests.post(service.scoring_uri, test_sample, headers=headers)\n"
   ]
  },
  {
   "cell_type": "code",
   "execution_count": 18,
   "metadata": {},
   "outputs": [
    {
     "name": "stdout",
     "output_type": "stream",
     "text": [
      "\"{\\\"result\\\": [198047.17480941652, 197559.10978286812, 122619.30385726779, 187788.51788121482, 133882.38200918754]}\"\n",
      "1967    132600\n",
      "4401    235400\n",
      "5522    208450\n",
      "7589    142000\n",
      "115     184000\n",
      "Name: salary_in_usd, dtype: int64\n",
      "2024-02-02T08:53:20,587368600+00:00 - rsyslog/run \n",
      "2024-02-02T08:53:20,596313900+00:00 - gunicorn/run \n",
      "2024-02-02T08:53:20,599018400+00:00 | gunicorn/run | \n",
      "2024-02-02T08:53:20,605475300+00:00 | gunicorn/run | ###############################################\n",
      "2024-02-02T08:53:20,607299100+00:00 | gunicorn/run | AzureML Container Runtime Information\n",
      "2024-02-02T08:53:20,613324600+00:00 | gunicorn/run | ###############################################\n",
      "2024-02-02T08:53:20,614830600+00:00 | gunicorn/run | \n",
      "2024-02-02T08:53:20,623472200+00:00 | gunicorn/run | \n",
      "2024-02-02T08:53:20,623721800+00:00 - nginx/run \n",
      "2024-02-02T08:53:20,632761300+00:00 | gunicorn/run | AzureML image information: openmpi4.1.0-ubuntu20.04, Materializaton Build:20230628.v2\n",
      "2024-02-02T08:53:20,634241600+00:00 | gunicorn/run | \n",
      "2024-02-02T08:53:20,641680600+00:00 | gunicorn/run | \n",
      "2024-02-02T08:53:20,643866100+00:00 | gunicorn/run | PATH environment variable: /azureml-envs/azureml-automl/bin:/opt/miniconda/bin:/usr/local/sbin:/usr/local/bin:/usr/sbin:/usr/bin:/sbin:/bin\n",
      "2024-02-02T08:53:20,650253900+00:00 | gunicorn/run | PYTHONPATH environment variable: \n",
      "2024-02-02T08:53:20,661205800+00:00 | gunicorn/run | \n",
      "2024-02-02T08:53:21,763376400+00:00 | gunicorn/run | CONDAPATH environment variable: /opt/miniconda\n",
      "\n",
      "# conda environments:\n",
      "#\n",
      "                         /azureml-envs/azureml-automl\n",
      "base                     /opt/miniconda\n",
      "\n",
      "2024-02-02T08:53:23,131685800+00:00 | gunicorn/run | \n",
      "2024-02-02T08:53:23,132898600+00:00 | gunicorn/run | Pip Dependencies (before dynamic installation)\n",
      "\n",
      "adal==1.2.7\n",
      "applicationinsights==0.11.10\n",
      "arch==5.3.1\n",
      "argcomplete==2.1.2\n",
      "argon2-cffi==21.3.0\n",
      "argon2-cffi-bindings==21.2.0\n",
      "asttokens==2.2.1\n",
      "attrs==23.1.0\n",
      "azure-common==1.1.28\n",
      "azure-core==1.27.1\n",
      "azure-graphrbac==0.61.1\n",
      "azure-identity==1.13.0\n",
      "azure-mgmt-authorization==3.0.0\n",
      "azure-mgmt-containerregistry==10.1.0\n",
      "azure-mgmt-core==1.4.0\n",
      "azure-mgmt-keyvault==10.2.2\n",
      "azure-mgmt-resource==22.0.0\n",
      "azure-mgmt-storage==21.0.0\n",
      "azure-storage-blob==12.13.0\n",
      "azure-storage-queue==12.6.0\n",
      "azureml-automl-core==1.52.0.post1\n",
      "azureml-automl-runtime==1.52.0.post1\n",
      "azureml-core==1.52.0\n",
      "azureml-dataprep==4.11.4\n",
      "azureml-dataprep-native==38.0.0\n",
      "azureml-dataprep-rslex==2.18.4\n",
      "azureml-dataset-runtime==1.52.0\n",
      "azureml-defaults==1.52.0\n",
      "azureml-inference-server-http==0.8.4\n",
      "azureml-interpret==1.52.0\n",
      "azureml-mlflow==1.52.0\n",
      "azureml-pipeline-core==1.52.0\n",
      "azureml-responsibleai==1.52.0\n",
      "azureml-telemetry==1.52.0\n",
      "azureml-train-automl-client==1.52.0\n",
      "azureml-train-automl-runtime==1.52.0\n",
      "azureml-train-core==1.52.0\n",
      "azureml-train-restclients-hyperdrive==1.52.0\n",
      "azureml-training-tabular==1.52.0\n",
      "backcall==0.2.0\n",
      "backports.tempfile==1.0\n",
      "backports.weakref==1.0.post1\n",
      "bcrypt==4.0.1\n",
      "beautifulsoup4==4.12.2\n",
      "bleach==6.0.0\n",
      "bokeh==2.4.3\n",
      "boto==2.49.0\n",
      "boto3==1.20.19\n",
      "botocore==1.23.19\n",
      "Brotli @ file:///home/conda/feedstock_root/build_artifacts/brotli-split_1687884021435/work\n",
      "cachetools==5.3.1\n",
      "certifi==2023.5.7\n",
      "cffi @ file:///home/conda/feedstock_root/build_artifacts/cffi_1671179356964/work\n",
      "charset-normalizer @ file:///home/conda/feedstock_root/build_artifacts/charset-normalizer_1678108872112/work\n",
      "click==8.1.4\n",
      "cloudpickle @ file:///home/conda/feedstock_root/build_artifacts/cloudpickle_1598400192773/work\n",
      "cmdstanpy==0.9.5\n",
      "contextlib2==21.6.0\n",
      "contourpy==1.1.0\n",
      "convertdate @ file:///home/conda/feedstock_root/build_artifacts/convertdate_1642883757836/work\n",
      "cryptography==41.0.0\n",
      "cycler==0.11.0\n",
      "Cython==0.29.17\n",
      "dask==2023.2.0\n",
      "databricks-cli==0.17.7\n",
      "dataclasses==0.6\n",
      "debugpy==1.6.7\n",
      "decorator==5.1.1\n",
      "defusedxml==0.7.1\n",
      "dice-ml==0.9\n",
      "dill==0.3.6\n",
      "distributed==2023.2.0\n",
      "distro==1.8.0\n",
      "docker==6.1.3\n",
      "dotnetcore2==3.1.23\n",
      "econml==0.14.1\n",
      "entrypoints==0.4\n",
      "ephem==4.1.4\n",
      "erroranalysis==0.4.4\n",
      "executing==1.2.0\n",
      "fairlearn==0.8.0\n",
      "fastjsonschema==2.17.1\n",
      "fbprophet==0.7.1\n",
      "fire==0.5.0\n",
      "Flask==2.2.5\n",
      "Flask-Cors==3.0.10\n",
      "flatbuffers==23.5.26\n",
      "fonttools==4.40.0\n",
      "fsspec==2023.6.0\n",
      "fusepy==3.0.1\n",
      "gensim==3.8.3\n",
      "gitdb==4.0.10\n",
      "GitPython==3.1.31\n",
      "google-api-core==2.11.1\n",
      "google-auth==2.21.0\n",
      "googleapis-common-protos==1.59.1\n",
      "gunicorn==20.1.0\n",
      "h5py==3.9.0\n",
      "holidays @ file:///home/conda/feedstock_root/build_artifacts/holidays_1595448845196/work\n",
      "humanfriendly==10.0\n",
      "idna @ file:///home/conda/feedstock_root/build_artifacts/idna_1663625384323/work\n",
      "importlib-metadata==6.8.0\n",
      "importlib-resources==5.13.0\n",
      "inference-schema==1.5.1\n",
      "interpret-community==0.29.0\n",
      "interpret-core==0.3.2\n",
      "ipykernel==6.8.0\n",
      "ipython==8.12.2\n",
      "ipython-genutils==0.2.0\n",
      "isodate==0.6.1\n",
      "itsdangerous==2.1.2\n",
      "jedi==0.18.2\n",
      "jeepney==0.8.0\n",
      "Jinja2==3.1.2\n",
      "jmespath==0.10.0\n",
      "joblib @ file:///home/conda/feedstock_root/build_artifacts/joblib_1663332044897/work\n",
      "jsonpickle==3.0.1\n",
      "jsonschema==4.18.0\n",
      "jsonschema-specifications==2023.6.1\n",
      "jupyter_client==7.4.9\n",
      "jupyter_core==5.3.1\n",
      "jupyterlab-pygments==0.2.2\n",
      "keras2onnx==1.6.0\n",
      "kiwisolver==1.4.4\n",
      "knack==0.10.1\n",
      "korean-lunar-calendar @ file:///home/conda/feedstock_root/build_artifacts/korean_lunar_calendar_1663341251025/work\n",
      "lightgbm==3.2.1\n",
      "llvmlite==0.38.1\n",
      "locket==1.0.0\n",
      "LunarCalendar==0.0.9\n",
      "MarkupSafe==2.1.2\n",
      "matplotlib==3.7.2\n",
      "matplotlib-inline==0.1.6\n",
      "mistune==3.0.1\n",
      "ml-wrappers==0.4.11\n",
      "mlflow-skinny==2.4.1\n",
      "mltable==1.4.1\n",
      "msal==1.22.0\n",
      "msal-extensions==1.0.0\n",
      "msgpack==1.0.5\n",
      "msrest==0.7.1\n",
      "msrestazure==0.6.4\n",
      "nbclient==0.8.0\n",
      "nbconvert==7.6.0\n",
      "nbformat==5.9.0\n",
      "ndg-httpsclient==0.5.1\n",
      "nest-asyncio==1.5.6\n",
      "networkx==2.5\n",
      "notebook==6.4.9\n",
      "numba==0.55.2\n",
      "numpy==1.22.3\n",
      "oauthlib==3.2.2\n",
      "onnx==1.13.1\n",
      "onnxconverter-common==1.6.0\n",
      "onnxmltools==1.4.1\n",
      "onnxruntime==1.11.1\n",
      "opencensus==0.11.2\n",
      "opencensus-context==0.1.3\n",
      "opencensus-ext-azure==1.1.9\n",
      "packaging==23.0\n",
      "pandas==1.1.5\n",
      "pandocfilters==1.5.0\n",
      "paramiko==3.2.0\n",
      "parso==0.8.3\n",
      "partd==1.4.0\n",
      "pathspec==0.11.1\n",
      "patsy==0.5.3\n",
      "pexpect==4.8.0\n",
      "pickleshare==0.7.5\n",
      "Pillow==10.0.0\n",
      "pkginfo==1.9.6\n",
      "pkgutil_resolve_name==1.3.10\n",
      "platformdirs @ file:///home/conda/feedstock_root/build_artifacts/platformdirs_1688739404342/work\n",
      "pmdarima==1.8.0\n",
      "pooch @ file:///home/conda/feedstock_root/build_artifacts/pooch_1679580333621/work\n",
      "portalocker==2.7.0\n",
      "prometheus-client==0.17.0\n",
      "prompt-toolkit==3.0.39\n",
      "property-cached==1.6.4\n",
      "protobuf==3.20.3\n",
      "psutil @ file:///home/conda/feedstock_root/build_artifacts/psutil_1681775007745/work\n",
      "ptyprocess==0.7.0\n",
      "pure-eval==0.2.2\n",
      "py-cpuinfo==5.0.0\n",
      "pyarrow==9.0.0\n",
      "pyasn1==0.5.0\n",
      "pyasn1-modules==0.3.0\n",
      "pycparser @ file:///home/conda/feedstock_root/build_artifacts/pycparser_1636257122734/work\n",
      "pydantic==1.10.11\n",
      "Pygments==2.15.1\n",
      "PyJWT==2.7.0\n",
      "PyMeeus @ file:///home/conda/feedstock_root/build_artifacts/pymeeus_1670868433998/work\n",
      "PyNaCl==1.5.0\n",
      "pyOpenSSL @ file:///home/conda/feedstock_root/build_artifacts/pyopenssl_1685514481738/work\n",
      "pyparsing==3.0.9\n",
      "PySocks @ file:///home/conda/feedstock_root/build_artifacts/pysocks_1661604839144/work\n",
      "pystan==2.19.1.1\n",
      "python-dateutil @ file:///home/conda/feedstock_root/build_artifacts/python-dateutil_1626286286081/work\n",
      "pytz @ file:///home/conda/feedstock_root/build_artifacts/pytz_1680088766131/work\n",
      "PyYAML==6.0\n",
      "pyzmq==25.1.0\n",
      "raiutils==0.4.0\n",
      "referencing==0.29.1\n",
      "requests @ file:///home/conda/feedstock_root/build_artifacts/requests_1684774241324/work\n",
      "requests-oauthlib==1.3.1\n",
      "responsibleai==0.28.0\n",
      "rpds-py==0.8.8\n",
      "rsa==4.9\n",
      "s3transfer==0.5.2\n",
      "scikit-learn==0.22.1\n",
      "scipy==1.5.3\n",
      "SecretStorage==3.3.3\n",
      "semver==2.13.0\n",
      "Send2Trash==1.8.2\n",
      "setuptools-git==1.2\n",
      "shap==0.41.0\n",
      "six @ file:///home/conda/feedstock_root/build_artifacts/six_1620240208055/work\n",
      "skl2onnx==1.4.9\n",
      "sklearn-pandas==1.7.0\n",
      "slicer==0.0.7\n",
      "smart-open==1.9.0\n",
      "smmap==5.0.0\n",
      "sortedcontainers==2.4.0\n",
      "soupsieve==2.4.1\n",
      "sparse==0.14.0\n",
      "sqlparse==0.4.4\n",
      "stack-data==0.6.2\n",
      "statsmodels==0.11.1\n",
      "tabulate==0.9.0\n",
      "tblib==2.0.0\n",
      "termcolor==2.3.0\n",
      "terminado==0.17.1\n",
      "tinycss2==1.2.1\n",
      "toolz==0.12.0\n",
      "tornado==6.3.2\n",
      "tqdm==4.65.0\n",
      "traitlets==5.9.0\n",
      "typing_extensions @ file:///home/conda/feedstock_root/build_artifacts/typing_extensions_1688315532570/work\n",
      "urllib3==1.26.16\n",
      "wcwidth==0.2.6\n",
      "webencodings==0.5.1\n",
      "websocket-client==1.6.1\n",
      "Werkzeug==2.3.6\n",
      "wrapt==1.12.1\n",
      "xgboost==1.3.3\n",
      "zict==3.0.0\n",
      "zipp==3.15.0\n",
      "\n",
      "2024-02-02T08:53:25,481288794+00:00 | gunicorn/run | \n",
      "2024-02-02T08:53:25,486980793+00:00 | gunicorn/run | ###############################################\n",
      "2024-02-02T08:53:25,488724593+00:00 | gunicorn/run | Checking if the Python package azureml-inference-server-http is installed\n",
      "2024-02-02T08:53:25,490320493+00:00 | gunicorn/run | ###############################################\n",
      "2024-02-02T08:53:25,496142793+00:00 | gunicorn/run | \n",
      "2024-02-02T08:53:28,932943567+00:00 | gunicorn/run | \n",
      "2024-02-02T08:53:28,934397267+00:00 | gunicorn/run | ###############################################\n",
      "2024-02-02T08:53:28,940995767+00:00 | gunicorn/run | AzureML Inference Server\n",
      "2024-02-02T08:53:28,943385967+00:00 | gunicorn/run | ###############################################\n",
      "2024-02-02T08:53:28,945556167+00:00 | gunicorn/run | \n",
      "2024-02-02T08:53:32,626230832+00:00 | gunicorn/run | Starting AzureML Inference Server HTTP.\n",
      "2024-02-02 08:53:33,016 I [70] azmlinfsrv - Loaded logging config from /azureml-envs/azureml-automl/lib/python3.8/site-packages/azureml_inference_server_http/logging.json\n",
      "2024-02-02 08:53:33,395 I [70] gunicorn.error - Starting gunicorn 20.1.0\n",
      "2024-02-02 08:53:33,396 I [70] gunicorn.error - Listening at: http://0.0.0.0:31311 (70)\n",
      "2024-02-02 08:53:33,396 I [70] gunicorn.error - Using worker: sync\n",
      "2024-02-02 08:53:33,400 I [128] gunicorn.error - Booting worker with pid: 128\n",
      "/azureml-envs/azureml-automl/lib/python3.8/site-packages/azureml_inference_server_http/server/config.py:51: FutureWarning: aliases are no longer used by BaseSettings to define which environment variables to read. Instead use the \"env\" field setting. See https://pydantic-docs.helpmanual.io/usage/settings/#environment-variable-names\n",
      "  class AMLInferenceServerConfig(pydantic.BaseSettings):\n",
      "\n",
      "Azure ML Inferencing HTTP server v0.8.4\n",
      "\n",
      "\n",
      "Server Settings\n",
      "---------------\n",
      "Entry Script Name: /var/azureml-app/main.py\n",
      "Model Directory: /var/azureml-app/azureml-models/best_automl_model/1\n",
      "Config File: None\n",
      "Worker Count: 1\n",
      "Worker Timeout (seconds): 300\n",
      "Server Port: 31311\n",
      "Health Port: 31311\n",
      "Application Insights Enabled: false\n",
      "Application Insights Key: None\n",
      "Inferencing HTTP server version: azmlinfsrv/0.8.4\n",
      "CORS for the specified origins: None\n",
      "Create dedicated endpoint for health: None\n",
      "\n",
      "\n",
      "Server Routes\n",
      "---------------\n",
      "Liveness Probe: GET   127.0.0.1:31311/\n",
      "Score:          POST  127.0.0.1:31311/score\n",
      "\n",
      "2024-02-02 08:53:34,417 I [128] azmlinfsrv - AML_FLASK_ONE_COMPATIBILITY is set. Patched Flask to ensure compatibility with Flask 1.\n",
      "Initializing logger\n",
      "2024-02-02 08:53:34,421 I [128] azmlinfsrv - Starting up app insights client\n",
      "2024-02-02 08:53:35,693 I [128] azmlinfsrv.user_script - Found driver script at /var/azureml-app/main.py and the score script at /var/azureml-app/scoreScript.py\n",
      "2024-02-02 08:53:35,693 I [128] azmlinfsrv.user_script - run() is decorated with @input_schema. Server will invoke it with the following arguments: data.\n",
      "2024-02-02 08:53:35,693 I [128] azmlinfsrv.user_script - Invoking user's init function\n",
      "ERROR:fbprophet.plot:Importing plotly failed. Interactive plots will not work.\n",
      "2024-02-02 08:53:49,256 I [128] azmlinfsrv.user_script - Users's init has completed successfully\n",
      "2024-02-02 08:53:49,309 I [128] azmlinfsrv.swagger - Swaggers are prepared for the following versions: [2, 3, 3.1].\n",
      "2024-02-02 08:53:49,309 I [128] azmlinfsrv - Scoring timeout is set to 60000\n",
      "2024-02-02 08:53:49,314 W [128] azmlinfsrv - x-ms-request-id header has been deprecated and will be removed from future versions of the server. Please use x-ms-client-request-id.\n",
      "2024-02-02 08:53:49,315 I [128] gunicorn.access - 127.0.0.1 - - [02/Feb/2024:08:53:49 +0000] \"GET / HTTP/1.0\" 200 7 \"-\" \"Go-http-client/1.1\"\n",
      "2024-02-02 08:53:49,316 W [128] azmlinfsrv - x-ms-request-id header has been deprecated and will be removed from future versions of the server. Please use x-ms-client-request-id.\n",
      "2024-02-02 08:53:49,321 I [128] gunicorn.access - 127.0.0.1 - - [02/Feb/2024:08:53:49 +0000] \"GET / HTTP/1.0\" 200 7 \"-\" \"Go-http-client/1.1\"\n",
      "2024-02-02 08:53:49,327 W [128] azmlinfsrv - x-ms-request-id header has been deprecated and will be removed from future versions of the server. Please use x-ms-client-request-id.\n",
      "2024-02-02 08:53:49,331 I [128] azmlinfsrv - GET /swagger.json 200 2.234ms 3226\n",
      "2024-02-02 08:53:49,332 I [128] gunicorn.access - 127.0.0.1 - - [02/Feb/2024:08:53:49 +0000] \"GET /swagger.json HTTP/1.0\" 200 3226 \"-\" \"Go-http-client/1.1\"\n",
      "2024-02-02 08:53:52,865 W [128] azmlinfsrv - x-ms-request-id header has been deprecated and will be removed from future versions of the server. Please use x-ms-client-request-id.\n",
      "2024-02-02 08:53:52,866 I [128] gunicorn.access - 127.0.0.1 - - [02/Feb/2024:08:53:52 +0000] \"GET / HTTP/1.0\" 200 7 \"-\" \"Go-http-client/1.1\"\n",
      "2024-02-02 08:53:52,874 W [128] azmlinfsrv - x-ms-request-id header has been deprecated and will be removed from future versions of the server. Please use x-ms-client-request-id.\n",
      "2024-02-02 08:53:52,876 I [128] azmlinfsrv - GET /swagger.json 200 1.241ms 3226\n",
      "2024-02-02 08:53:52,877 I [128] gunicorn.access - 127.0.0.1 - - [02/Feb/2024:08:53:52 +0000] \"GET /swagger.json HTTP/1.0\" 200 3226 \"-\" \"Go-http-client/1.1\"\n",
      "2024-02-02 08:57:12,033 W [128] azmlinfsrv - x-ms-request-id header has been deprecated and will be removed from future versions of the server. Please use x-ms-client-request-id.\n",
      "2024-02-02 08:57:12,149 I [128] azmlinfsrv - POST /score 200 116.206ms 116\n",
      "2024-02-02 08:57:12,150 I [128] gunicorn.access - 127.0.0.1 - - [02/Feb/2024:08:57:12 +0000] \"POST /score HTTP/1.0\" 200 116 \"-\" \"python-requests/2.31.0\"\n",
      "\n"
     ]
    }
   ],
   "source": [
    "# Print results from the inference\n",
    "print(response.text)\n",
    "# Print original labels\n",
    "print(label_df)\n",
    "\n",
    "print(service.get_logs())\n",
    "\n"
   ]
  },
  {
   "cell_type": "code",
   "execution_count": null,
   "metadata": {},
   "outputs": [],
   "source": [
    "service.delete()"
   ]
  },
  {
   "cell_type": "markdown",
   "metadata": {},
   "source": [
    "**Submission Checklist**\n",
    "- I have registered the model.\n",
    "- I have deployed the model with the best accuracy as a webservice.\n",
    "- I have tested the webservice by sending a request to the model endpoint.\n",
    "- I have deleted the webservice and shutdown all the computes that I have used.\n",
    "- I have taken a screenshot showing the model endpoint as active.\n",
    "- The project includes a file containing the environment details.\n"
   ]
  },
  {
   "cell_type": "markdown",
   "metadata": {},
   "source": []
  }
 ],
 "metadata": {
  "kernel_info": {
   "name": "python3-azureml"
  },
  "kernelspec": {
   "display_name": "Python 3.8 - AzureML",
   "language": "python",
   "name": "python38-azureml"
  },
  "language_info": {
   "codemirror_mode": {
    "name": "ipython",
    "version": 3
   },
   "file_extension": ".py",
   "mimetype": "text/x-python",
   "name": "python",
   "nbconvert_exporter": "python",
   "pygments_lexer": "ipython3",
   "version": "3.8.5"
  },
  "nteract": {
   "version": "nteract-front-end@1.0.0"
  }
 },
 "nbformat": 4,
 "nbformat_minor": 2
}
