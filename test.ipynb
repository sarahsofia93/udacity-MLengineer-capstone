{
 "cells": [
  {
   "cell_type": "code",
   "execution_count": 14,
   "metadata": {},
   "outputs": [],
   "source": [
    "import pandas as pd\n",
    "import matplotlib"
   ]
  },
  {
   "cell_type": "code",
   "execution_count": 8,
   "metadata": {},
   "outputs": [
    {
     "data": {
      "text/plain": [
       "Index(['work_year', 'job_title', 'job_category', 'salary_currency', 'salary',\n",
       "       'salary_in_usd', 'employee_residence', 'experience_level',\n",
       "       'employment_type', 'work_setting', 'company_location', 'company_size'],\n",
       "      dtype='object')"
      ]
     },
     "execution_count": 8,
     "metadata": {},
     "output_type": "execute_result"
    }
   ],
   "source": [
    "data = pd.read_csv('jobs_in_data.csv')\n",
    "data.columns"
   ]
  },
  {
   "cell_type": "code",
   "execution_count": 21,
   "metadata": {},
   "outputs": [
    {
     "name": "stdout",
     "output_type": "stream",
     "text": [
      "Index(['work_year', 'job_title', 'job_category', 'salary_currency', 'salary',\n",
      "       'salary_in_usd', 'employee_residence', 'experience_level',\n",
      "       'employment_type', 'work_setting', 'company_location', 'company_size'],\n",
      "      dtype='object')\n"
     ]
    },
    {
     "data": {
      "text/plain": [
       "<Axes: xlabel='experience_level', ylabel='salary'>"
      ]
     },
     "execution_count": 21,
     "metadata": {},
     "output_type": "execute_result"
    },
    {
     "data": {
      "image/png": "[encoded data removed]",
      "text/plain": [
       "<Figure size 640x480 with 1 Axes>"
      ]
     },
     "metadata": {},
     "output_type": "display_data"
    }
   ],
   "source": [
    "grouped_data = data.groupby('company_location')\n",
    "\n",
    "\n",
    "#grouped_data.get_group('Germany').plot(x='experience_level', y='salary', kind='bar')\n",
    "column_names = data.columns\n",
    "print(column_names)\n",
    "\n",
    "#grouped_data.get_group('Germany')['salary'].plot(kind='hist')\n",
    "\n",
    "grouped_data.get_group('Germany').plot(x='experience_level', y='salary', kind='scatter')\n",
    "\n",
    "\n",
    "\n",
    "\n"
   ]
  },
  {
   "cell_type": "code",
   "execution_count": 24,
   "metadata": {},
   "outputs": [],
   "source": [
    "# Erstelle die Gehaltsklassen\n",
    "data['salary_class'] = pd.qcut(data['salary_in_usd'], q=10, labels=False)\n",
    "\n",
    "# Erstelle die Gehaltsklassen, Index der Klassen soll bei 0 anfangen\n",
    "pd.qcut(data['salary_in_usd'], q=10, labels=False, retbins=True)[0]\n",
    "\n",
    "\n",
    "\n",
    "# Erstelle die Gehaltsbereiche\n",
    "data['salary_range'] = pd.qcut(data['salary_in_usd'], q=10)"
   ]
  },
  {
   "cell_type": "code",
   "execution_count": 33,
   "metadata": {},
   "outputs": [
    {
     "data": {
      "text/plain": [
       "0       1\n",
       "1       7\n",
       "2       1\n",
       "3       8\n",
       "4       1\n",
       "       ..\n",
       "9350    6\n",
       "9351    9\n",
       "9352    5\n",
       "9353    2\n",
       "9354    2\n",
       "Name: salary_in_usd, Length: 9355, dtype: int64"
      ]
     },
     "execution_count": 33,
     "metadata": {},
     "output_type": "execute_result"
    }
   ],
   "source": [
    "pd.qcut(data['salary_in_usd'], q=10, labels=False, retbins=True)[0]"
   ]
  },
  {
   "cell_type": "code",
   "execution_count": 37,
   "metadata": {},
   "outputs": [
    {
     "data": {
      "text/plain": [
       "array(['L', 'M', 'S'], dtype=object)"
      ]
     },
     "execution_count": 37,
     "metadata": {},
     "output_type": "execute_result"
    }
   ],
   "source": [
    "data.columns\n",
    "\n",
    "#Zeige alle uniq values in der spalte Experience level an\n",
    "data['company_size'].unique()"
   ]
  },
  {
   "cell_type": "code",
   "execution_count": 26,
   "metadata": {},
   "outputs": [],
   "source": [
    "data.head(50)\n",
    "data.to_csv('jobs_in_data_prep.csv', index=False)"
   ]
  },
  {
   "cell_type": "code",
   "execution_count": 30,
   "metadata": {},
   "outputs": [
    {
     "data": {
      "text/plain": [
       "salary_range\n",
       "(14999.999, 73500.0]     951\n",
       "(73500.0, 95385.0]       920\n",
       "(95385.0, 115000.0]      970\n",
       "(115000.0, 130000.0]     974\n",
       "(130000.0, 143000.0]     863\n",
       "(143000.0, 160000.0]    1072\n",
       "(160000.0, 178592.0]     798\n",
       "(178592.0, 200000.0]     991\n",
       "(200000.0, 233800.0]     880\n",
       "(233800.0, 450000.0]     936\n",
       "Name: count, dtype: int64"
      ]
     },
     "execution_count": 30,
     "metadata": {},
     "output_type": "execute_result"
    }
   ],
   "source": [
    "\n",
    "#data['salary_range'].value_counts()\n",
    "\n",
    "# aufsteigend sortiert\n",
    "data['salary_range'].value_counts().sort_index()"
   ]
  },
  {
   "cell_type": "code",
   "execution_count": null,
   "metadata": {},
   "outputs": [],
   "source": []
  }
 ],
 "metadata": {
  "kernelspec": {
   "display_name": "venv",
   "language": "python",
   "name": "python3"
  },
  "language_info": {
   "codemirror_mode": {
    "name": "ipython",
    "version": 3
   },
   "file_extension": ".py",
   "mimetype": "text/x-python",
   "name": "python",
   "nbconvert_exporter": "python",
   "pygments_lexer": "ipython3",
   "version": "3.9.6"
  }
 },
 "nbformat": 4,
 "nbformat_minor": 2
}
